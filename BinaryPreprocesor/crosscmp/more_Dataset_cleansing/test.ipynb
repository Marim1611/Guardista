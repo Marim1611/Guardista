{
 "cells": [
  {
   "cell_type": "code",
   "execution_count": 1,
   "metadata": {},
   "outputs": [],
   "source": [
    "import json\n",
    "import pandas as pd\n",
    "from tqdm import tqdm\n",
    "import re\n",
    "import sys\n",
    "import os\n",
    "from xml.dom import minidom\n",
    "import xml.etree.ElementTree as ET\n",
    "#from lxml import etree\n"
   ]
  },
  {
   "cell_type": "code",
   "execution_count": 2,
   "metadata": {},
   "outputs": [],
   "source": [
    "\n",
    "# parse an xml file by name\n",
    "rootpath = \"D:\\ClassWork\\Dataset\\VULNERABLE_MANIFEST\"\n",
    "FunctionLabeler = 'true'\n",
    "xmlPath = rootpath + '/manifest.xml'\n",
    "file = ET.parse(xmlPath)\n"
   ]
  },
  {
   "cell_type": "code",
   "execution_count": 3,
   "metadata": {},
   "outputs": [
    {
     "data": {
      "text/plain": [
       "'\\nSome patterns in the ll function names\\ndefine void @\"CWE124_Buffer_Underwrite__char_alloca_cpy_81::CWE124_Buffer_Underwrite__char_alloca_cpy_81_bad::CWE124_Buffer_Underwrite__char_alloca_cpy_81_bad\"(i32* %this)\\ndefine void @\"CWE124_Buffer_Underwrite__char_alloca_cpy_81::CWE124_Buffer_Underwrite__char_alloca_cpy_81_bad::action\"(i32* %this, i8* %data)\\n\\ndefine void @\"CWE124_Buffer_Underwrite__char_alloca_cpy_81::bad\"()\\ndefine void @CWE124_Buffer_Underwrite__char_alloca_cpy_02_bad()\\ndefine void @CWE124_Buffer_Underwrite__char_alloca_cpy_54_bad()\\n\\ndefine void @CWE124_Buffer_Underwrite__char_alloca_cpy_54b_badSink(i8* %data)\\ndefine void @CWE124_Buffer_Underwrite__char_alloca_cpy_54c_badSink(i8* %data)\\ndefine void @CWE124_Buffer_Underwrite__char_alloca_cpy_54d_badSink(i8* %data)\\ndefine void @CWE124_Buffer_Underwrite__char_alloca_cpy_54e_badSink(i8* %data)\\n'"
      ]
     },
     "execution_count": 3,
     "metadata": {},
     "output_type": "execute_result"
    }
   ],
   "source": [
    "\"\"\"\n",
    "Some patterns in the ll function names\n",
    "define void @\"CWE124_Buffer_Underwrite__char_alloca_cpy_81::CWE124_Buffer_Underwrite__char_alloca_cpy_81_bad::CWE124_Buffer_Underwrite__char_alloca_cpy_81_bad\"(i32* %this)\n",
    "define void @\"CWE124_Buffer_Underwrite__char_alloca_cpy_81::CWE124_Buffer_Underwrite__char_alloca_cpy_81_bad::action\"(i32* %this, i8* %data)\n",
    "\n",
    "define void @\"CWE124_Buffer_Underwrite__char_alloca_cpy_81::bad\"()\n",
    "define void @CWE124_Buffer_Underwrite__char_alloca_cpy_02_bad()\n",
    "define void @CWE124_Buffer_Underwrite__char_alloca_cpy_54_bad()\n",
    "\n",
    "define void @CWE124_Buffer_Underwrite__char_alloca_cpy_54b_badSink(i8* %data)\n",
    "define void @CWE124_Buffer_Underwrite__char_alloca_cpy_54c_badSink(i8* %data)\n",
    "define void @CWE124_Buffer_Underwrite__char_alloca_cpy_54d_badSink(i8* %data)\n",
    "define void @CWE124_Buffer_Underwrite__char_alloca_cpy_54e_badSink(i8* %data)\n",
    "\"\"\""
   ]
  },
  {
   "cell_type": "code",
   "execution_count": 4,
   "metadata": {},
   "outputs": [],
   "source": [
    "import string\n",
    "\n",
    "def preprocessLLFuncName(filename):\n",
    "  '''\n",
    "  takes file name, returns the function name in it as a regex script\n",
    "\n",
    "  it removes the extention, removes any alphabet at the end of the name\n",
    "  '''\n",
    "  \n",
    "  filenameWithoutExtension = re.split('\\.',filename)[0]\n",
    "  \n",
    "  LLFileName = filenameWithoutExtension + '.ll'\n",
    "  \n",
    "  while (filenameWithoutExtension[-1] != '_'):\n",
    "    filenameWithoutExtension = filenameWithoutExtension[:-1]\n",
    "  filenameWithoutExtension = filenameWithoutExtension[:-1]\n",
    "  return filenameWithoutExtension, LLFileName\n"
   ]
  },
  {
   "cell_type": "code",
   "execution_count": 5,
   "metadata": {},
   "outputs": [],
   "source": [
    "def regexifyFunctionName(funcName):\n",
    "    '''\n",
    "    takes function name returns a regex for the function line, and the function name only.\n",
    "    also returns a regex for special case function line and special case function name only.\n",
    "    special case happens when the function is defined like this:\n",
    "        define void @\"CWE124_Buffer_Underwrite__char_alloca_cpy_81::bad\"()\n",
    "        define void @CWE124_Buffer_Underwrite__char_alloca_cpy_54c_badSink(i8* %data)\n",
    "        define void @\"CWE124_Buffer_Underwrite__char_alloca_cpy_81::CWE124_Buffer_Underwrite__char_alloca_cpy_81_bad::action\"(i32* %this, i8* %data)\n",
    "        define void @\"CWE124_Buffer_Underwrite__char_alloca_cpy_81::CWE124_Buffer_Underwrite__char_alloca_cpy_81_bad::CWE124_Buffer_Underwrite__char_alloca_cpy_81_bad\"(i32* %this)\n",
    "    '''\n",
    "\n",
    "    NormFuncLine = \"define.*\"+funcName+\".*bad.*\\{\"\n",
    "    NormFuncName = \"define.*@.*(\"+funcName+\".*bad.*)\\{\"\n",
    "\n",
    "    return NormFuncLine, NormFuncName#, SpecFuncLine, SpecFuncName"
   ]
  },
  {
   "cell_type": "code",
   "execution_count": 6,
   "metadata": {},
   "outputs": [],
   "source": [
    "def getBadFuncNameInLLVM(llfilepath, funcname, CVE_ID):\n",
    "  if(os.path.isfile(llfilepath)):\n",
    "    FileLL = open(llfilepath, 'r+')\n",
    "  else:\n",
    "    #print(f\"cant open or locate file {llfilepath}\")\n",
    "    return -1, -1\n",
    "  content = FileLL.readlines()\n",
    "  \n",
    "  FileLL.close()\n",
    "  FileLL = open(llfilepath, 'w')\n",
    "  NormFuncLineRGX, NormFuncNameRGX = regexifyFunctionName(funcname)\n",
    "  \n",
    "  matchees = dict()\n",
    "  for i, lin in enumerate(content):\n",
    "    matches_func_line = re.findall(NormFuncLineRGX , str(lin))\n",
    "    matches_func_name = re.findall(NormFuncNameRGX , str(lin))\n",
    "\n",
    "    if(matches_func_line):\n",
    "      matchees[i] = matches_func_line[0]\n",
    "\n",
    "\n",
    "  \n",
    "  \n",
    "  CVE_string = \"CVE\"\n",
    "  if(len(CVE_ID) > 0):\n",
    "    for id in CVE_ID:\n",
    "      CVE_string = CVE_string + id+\",\"\n",
    "  \n",
    "  #print(matchees)\n",
    "  for line, matchFuncLine in matchees.items():\n",
    "    #print(matchFuncLine)\n",
    "    \n",
    "    FunctionHeader_with_Mariem_tag = matchFuncLine+ \" \" +CVE_string + \" \"+'\\n'\n",
    "   # print(FunctionHeader_with_Mariem_tag)\n",
    "    content[line] = FunctionHeader_with_Mariem_tag\n",
    "    \n",
    "  FileLL.writelines(content)\n",
    "  FileLL.close()\n",
    "  \n",
    "  if(matchees):\n",
    "    return 1,1\n",
    "  else:\n",
    "    print(f\"Function {funcname} Not found\")\n",
    "    return False, False"
   ]
  },
  {
   "cell_type": "code",
   "execution_count": 7,
   "metadata": {},
   "outputs": [
    {
     "name": "stdout",
     "output_type": "stream",
     "text": [
      "64123\n"
     ]
    },
    {
     "name": "stderr",
     "output_type": "stream",
     "text": [
      " 21%|██▏       | 13645/64123 [08:52<4:12:27,  3.33it/s] "
     ]
    },
    {
     "name": "stdout",
     "output_type": "stream",
     "text": [
      "Function CWE124_Buffer_Underwrite__wchar_t_declare_ncpy Not found\n",
      "Function CWE124_Buffer_Underwrite__wchar_t_declare_ncpy Not found\n",
      "Function CWE124_Buffer_Underwrite__wchar_t_declare_ncpy Not found\n"
     ]
    },
    {
     "name": "stderr",
     "output_type": "stream",
     "text": [
      " 21%|██▏       | 13646/64123 [08:59<28:01:37,  2.00s/it]"
     ]
    },
    {
     "name": "stdout",
     "output_type": "stream",
     "text": [
      "Function CWE124_Buffer_Underwrite__wchar_t_declare_ncpy Not found\n",
      "Function CWE124_Buffer_Underwrite__wchar_t_declare_ncpy Not found\n",
      "Function CWE124_Buffer_Underwrite__wchar_t_declare_ncpy Not found\n",
      "Function CWE124_Buffer_Underwrite__wchar_t_declare_ncpy Not found\n",
      "Function CWE124_Buffer_Underwrite__wchar_t_declare_ncpy Not found\n"
     ]
    },
    {
     "name": "stderr",
     "output_type": "stream",
     "text": [
      " 21%|██▏       | 13647/64123 [09:09<56:28:12,  4.03s/it]"
     ]
    },
    {
     "name": "stdout",
     "output_type": "stream",
     "text": [
      "Function CWE124_Buffer_Underwrite__wchar_t_declare_ncpy Not found\n",
      "Function CWE124_Buffer_Underwrite__wchar_t_declare_ncpy Not found\n"
     ]
    },
    {
     "name": "stderr",
     "output_type": "stream",
     "text": [
      " 21%|██▏       | 13648/64123 [09:13<57:06:50,  4.07s/it]"
     ]
    },
    {
     "name": "stdout",
     "output_type": "stream",
     "text": [
      "Function CWE124_Buffer_Underwrite__wchar_t_declare_ncpy Not found\n",
      "Function CWE124_Buffer_Underwrite__wchar_t_declare_ncpy Not found\n"
     ]
    },
    {
     "name": "stderr",
     "output_type": "stream",
     "text": [
      " 21%|██▏       | 13649/64123 [09:19<63:39:53,  4.54s/it]"
     ]
    },
    {
     "name": "stdout",
     "output_type": "stream",
     "text": [
      "Function CWE124_Buffer_Underwrite__wchar_t_declare_ncpy Not found\n",
      "Function CWE124_Buffer_Underwrite__wchar_t_declare_ncpy Not found\n"
     ]
    },
    {
     "name": "stderr",
     "output_type": "stream",
     "text": [
      " 21%|██▏       | 13650/64123 [09:24<65:32:10,  4.67s/it]"
     ]
    },
    {
     "name": "stdout",
     "output_type": "stream",
     "text": [
      "Function CWE124_Buffer_Underwrite__wchar_t_declare_ncpy Not found\n",
      "Function CWE124_Buffer_Underwrite__wchar_t_declare_ncpy Not found\n"
     ]
    },
    {
     "name": "stderr",
     "output_type": "stream",
     "text": [
      " 21%|██▏       | 13651/64123 [09:28<64:45:38,  4.62s/it]"
     ]
    },
    {
     "name": "stdout",
     "output_type": "stream",
     "text": [
      "Function CWE124_Buffer_Underwrite__wchar_t_declare_ncpy Not found\n",
      "Function CWE124_Buffer_Underwrite__wchar_t_declare_ncpy Not found\n"
     ]
    },
    {
     "name": "stderr",
     "output_type": "stream",
     "text": [
      " 21%|██▏       | 13652/64123 [09:31<57:22:01,  4.09s/it]"
     ]
    },
    {
     "name": "stdout",
     "output_type": "stream",
     "text": [
      "Function CWE124_Buffer_Underwrite__wchar_t_declare_ncpy Not found\n",
      "Function CWE124_Buffer_Underwrite__wchar_t_declare_ncpy Not found\n"
     ]
    },
    {
     "name": "stderr",
     "output_type": "stream",
     "text": [
      " 21%|██▏       | 13653/64123 [09:36<61:00:11,  4.35s/it]"
     ]
    },
    {
     "name": "stdout",
     "output_type": "stream",
     "text": [
      "Function CWE124_Buffer_Underwrite__wchar_t_declare_ncpy Not found\n",
      "Function CWE124_Buffer_Underwrite__wchar_t_declare_ncpy Not found\n"
     ]
    },
    {
     "name": "stderr",
     "output_type": "stream",
     "text": [
      " 21%|██▏       | 13654/64123 [09:40<61:42:17,  4.40s/it]"
     ]
    },
    {
     "name": "stdout",
     "output_type": "stream",
     "text": [
      "Function CWE124_Buffer_Underwrite__wchar_t_declare_ncpy Not found\n",
      "Function CWE124_Buffer_Underwrite__wchar_t_declare_ncpy Not found\n"
     ]
    },
    {
     "name": "stderr",
     "output_type": "stream",
     "text": [
      " 21%|██▏       | 13655/64123 [09:45<61:52:25,  4.41s/it]"
     ]
    },
    {
     "name": "stdout",
     "output_type": "stream",
     "text": [
      "Function CWE124_Buffer_Underwrite__wchar_t_declare_ncpy Not found\n",
      "Function CWE124_Buffer_Underwrite__wchar_t_declare_ncpy Not found\n"
     ]
    },
    {
     "name": "stderr",
     "output_type": "stream",
     "text": [
      " 21%|██▏       | 13656/64123 [09:49<62:02:35,  4.43s/it]"
     ]
    },
    {
     "name": "stdout",
     "output_type": "stream",
     "text": [
      "Function CWE124_Buffer_Underwrite__wchar_t_declare_ncpy Not found\n",
      "Function CWE124_Buffer_Underwrite__wchar_t_declare_ncpy_81 Not found\n",
      "Function CWE124_Buffer_Underwrite__wchar_t_declare_ncpy_81 Not found\n"
     ]
    },
    {
     "name": "stderr",
     "output_type": "stream",
     "text": [
      " 21%|██▏       | 13657/64123 [09:59<82:19:47,  5.87s/it]"
     ]
    },
    {
     "name": "stdout",
     "output_type": "stream",
     "text": [
      "Function CWE124_Buffer_Underwrite__wchar_t_declare_ncpy Not found\n",
      "Function CWE124_Buffer_Underwrite__wchar_t_declare_ncpy_82 Not found\n",
      "Function CWE124_Buffer_Underwrite__wchar_t_declare_ncpy_82 Not found\n"
     ]
    },
    {
     "name": "stderr",
     "output_type": "stream",
     "text": [
      " 22%|██▏       | 13896/64123 [10:09<49:20, 16.96it/s]   "
     ]
    },
    {
     "name": "stdout",
     "output_type": "stream",
     "text": [
      "Function CWE124_Buffer_Underwrite__wchar_t_declare_ncpy Not found\n"
     ]
    },
    {
     "name": "stderr",
     "output_type": "stream",
     "text": [
      "100%|██████████| 64123/64123 [11:15<00:00, 94.97it/s]  \n"
     ]
    }
   ],
   "source": [
    "\n",
    "root = file.getroot()\n",
    "print(len(root))\n",
    "\n",
    "\n",
    "\n",
    "count = 0\n",
    "\n",
    "\n",
    "DF = pd.DataFrame()\n",
    "DF.loc[0,\"cve-ids\"] = \"gg\"\n",
    "DF.loc[0, \"fileName\"]= \"gg\"\n",
    "DF.loc[0, \"function_name_in_binary\"] = \"gg\"\n",
    "DF.loc[0, \"testCaseID\"] = 0\n",
    "\n",
    "for testcase in tqdm(range(len(root))):\n",
    "    for file in range(len(root[testcase])):\n",
    "            ID = re.findall(r'CWE(\\d+)_', root[testcase][file].attrib[\"path\"])\n",
    "            filename = root[testcase][file].attrib[\"path\"]\n",
    "            \n",
    "            filenamewithoutext, llfilename = preprocessLLFuncName(filename)\n",
    "            \n",
    "            (funcName, funcContent) = getBadFuncNameInLLVM(rootpath+\"/llfiles/\"+llfilename, filenamewithoutext, ID)\n",
    "\n",
    "            if(funcName == False):\n",
    "                newlist = [\"safe\", llfilename, \"UNKNOWN\", count]\n",
    "                DF.loc[count] = newlist\n",
    "                count = count+1\n",
    "                continue\n",
    "            elif(len(root[testcase][file]) == 0):\n",
    "                newlist = [\"safe\", llfilename, \"UNKNOWN\", count]\n",
    "                DF.loc[count] = newlist\n",
    "                count = count+1\n",
    "                continue\n",
    "            elif(funcName == -1):\n",
    "                continue\n",
    "                \n",
    "            else:\n",
    "                newlist = [int(ID[0]), llfilename, funcName, count]\n",
    "                DF.loc[count] = newlist\n",
    "                count = count+1\n",
    "\n",
    "DF.to_csv(rootpath+\"/JulietLabels.csv\")\n"
   ]
  }
 ],
 "metadata": {
  "kernelspec": {
   "display_name": "Python 3",
   "language": "python",
   "name": "python3"
  },
  "language_info": {
   "codemirror_mode": {
    "name": "ipython",
    "version": 3
   },
   "file_extension": ".py",
   "mimetype": "text/x-python",
   "name": "python",
   "nbconvert_exporter": "python",
   "pygments_lexer": "ipython3",
   "version": "3.11.3"
  },
  "orig_nbformat": 4
 },
 "nbformat": 4,
 "nbformat_minor": 2
}
