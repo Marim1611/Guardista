{
  "cells": [
    {
      "attachments": {},
      "cell_type": "markdown",
      "metadata": {},
      "source": [
        "### Extract functions from LL files"
      ]
    },
    {
      "cell_type": "code",
      "execution_count": 1,
      "metadata": {},
      "outputs": [],
      "source": [
        "import CodePreprocessing as preprocessing\n",
        "import json"
      ]
    },
    {
      "cell_type": "code",
      "execution_count": 2,
      "metadata": {},
      "outputs": [],
      "source": [
        "\n",
        "# ----------------- user functions  --------------------\n",
        "preprocessing.functions_preprocessing( llvm_file='aymon.ll', json_file='UserCode' )\n",
        "with open( 'UserCode.json', 'r' ) as f:\n",
        "    user_code = json.load( f ) \n",
        "\n",
        "# ----------------- Vulnerable function ------------------\n",
        "preprocessing.functions_preprocessing(llvm_file='vulnFunc.ll', json_file='VulnerableCode' )\n",
        "with open( 'VulnerableCode.json', 'r' ) as f:\n",
        "    vulnerable_code = json.load( f )\n",
        "\n",
        "vulnerable_function=[]\n",
        "for key in vulnerable_code:\n",
        "    vulnerable_function.append(vulnerable_code[key])\n"
      ]
    },
    {
      "attachments": {},
      "cell_type": "markdown",
      "metadata": {},
      "source": [
        "### Matching"
      ]
    },
    {
      "cell_type": "code",
      "execution_count": 3,
      "metadata": {
        "colab": {
          "base_uri": "https://localhost:8080/"
        },
        "id": "xAUxk6Oql4zr",
        "outputId": "075923bf-4d53-4a48-f894-cfae71e0e118"
      },
      "outputs": [],
      "source": [
        "import matchers as matcher\n",
        "import LLNormalizer as normalizer\n",
        "import Winnowing"
      ]
    },
    {
      "cell_type": "code",
      "execution_count": 4,
      "metadata": {},
      "outputs": [],
      "source": [
        "def check_function_vulnerable(threshold,score1,score2,score3):\n",
        "    return score1 > threshold and score2 > threshold and score3 > threshold"
      ]
    },
    {
      "cell_type": "code",
      "execution_count": 5,
      "metadata": {},
      "outputs": [],
      "source": [
        "threshold=0.7\n",
        "k=3\n",
        "code_scores=dict()\n",
        "\n",
        "for key in user_code:\n",
        "    fn=user_code[key] \n",
        "    #fn=normalizer.NormalizeLLVM(fn)\n",
        "\n",
        "    jaro_winkler=matcher.jaro_winkler_similarity(fn, vulnerable_function[0])\n",
        "    levenshtein=matcher.levenshtein_similarity(fn, vulnerable_function[0])\n",
        "    ratcliff_obershelp=matcher.ratcliff_obershelp_similarity(fn, vulnerable_function[0])\n",
        "    trigram=matcher.trigram_similarity(fn, vulnerable_function[0])\n",
        "    sorensen_dice=matcher.sorensen_dice_similarity(fn, vulnerable_function[0])\n",
        "    jaccard_distance=matcher.jaccard_distance(fn, vulnerable_function[0])\n",
        "\n",
        "    scores=[jaro_winkler,levenshtein,ratcliff_obershelp,trigram,sorensen_dice,jaccard_distance]\n",
        "    scores.sort(reverse=True) \n",
        "    code_scores[key]=scores\n",
        "\n",
        "with open('code_scores.json', 'w') as f:\n",
        "    f.write(json.dumps(code_scores, indent=6))"
      ]
    },
    {
      "cell_type": "code",
      "execution_count": null,
      "metadata": {
        "colab": {
          "base_uri": "https://localhost:8080/"
        },
        "id": "k5Q4kGpol945",
        "outputId": "f7424431-24d8-4ae8-efef-855983cc0e5d"
      },
      "outputs": [],
      "source": []
    },
    {
      "cell_type": "code",
      "execution_count": 6,
      "metadata": {},
      "outputs": [
        {
          "name": "stdout",
          "output_type": "stream",
          "text": [
            "Vulnerable function found: define void @bad() local_unnamed_addr {\n",
            "\n",
            "MOSS Caught this <3 !!!\n",
            "Accuracy_Metric 1 = 0.830739299610895  ||  Accuracy_Metric 2 = 0.5324189526184538\n",
            "hits: 4270 , misses: 870, misses2: 3750\n",
            "-----------------------\n",
            "Vulnerable function found: define void @good() local_unnamed_addr {\n",
            "\n",
            "MOSS Caught this <3 !!!\n",
            "Accuracy_Metric 1 = 0.7728520988622989  ||  Accuracy_Metric 2 = 0.5604551920341394\n",
            "hits: 3940 , misses: 1158, misses2: 3090\n",
            "-----------------------\n"
          ]
        }
      ],
      "source": [
        "normalizedvuln = normalizer.NormalizeLLVM(vulnerable_function[0])\n",
        "for key in code_scores:\n",
        "    if check_function_vulnerable(threshold,code_scores[key][0],code_scores[key][1],code_scores[key][2]):\n",
        "        fn = user_code[key]\n",
        "        normalizedfn = normalizer.NormalizeLLVM(fn)\n",
        "        MOSS_Acc_metric1, MOSS_Acc_metric2, hits, misses1, misses2 = Winnowing.diff(normalizedfn, normalizedvuln, K= 50, WindowSize= 10, P= 10)\n",
        "        print(\"Vulnerable function found:\",key)\n",
        "        if(MOSS_Acc_metric1>0.7 or MOSS_Acc_metric2>0.7):\n",
        "            print(f\"MOSS Caught this <3 !!!\")\n",
        "            print(f\"Accuracy_Metric 1 = {MOSS_Acc_metric1}  ||  Accuracy_Metric 2 = {MOSS_Acc_metric2}\\nhits: {hits} , misses: {misses1}, misses2: {misses2}\")\n",
        "        print('-----------------------')"
      ]
    },
    {
      "cell_type": "code",
      "execution_count": 7,
      "metadata": {},
      "outputs": [
        {
          "data": {
            "text/plain": [
              "'\\n\\n'"
            ]
          },
          "execution_count": 7,
          "metadata": {},
          "output_type": "execute_result"
        }
      ],
      "source": [
        "'''\n",
        "\n",
        "'''"
      ]
    },
    {
      "cell_type": "code",
      "execution_count": null,
      "metadata": {},
      "outputs": [],
      "source": []
    }
  ],
  "metadata": {
    "colab": {
      "provenance": []
    },
    "kernelspec": {
      "display_name": "Python 3",
      "name": "python3"
    },
    "language_info": {
      "codemirror_mode": {
        "name": "ipython",
        "version": 3
      },
      "file_extension": ".py",
      "mimetype": "text/x-python",
      "name": "python",
      "nbconvert_exporter": "python",
      "pygments_lexer": "ipython3",
      "version": "3.11.3"
    }
  },
  "nbformat": 4,
  "nbformat_minor": 0
}
