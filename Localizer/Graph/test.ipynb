{
 "cells": [
  {
   "cell_type": "code",
   "execution_count": 1,
   "metadata": {},
   "outputs": [
    {
     "name": "stdout",
     "output_type": "stream",
     "text": [
      "Node 408c90 does not exist yet.\n",
      "Node 408d44 does not exist yet.\n",
      "Node 408d19 does not exist yet.\n",
      "Node 1 of degree (0, 2)\n",
      "label: 408c90\n",
      "in Nodes: []\n",
      "out Nodes: [2, 3]\n",
      "Node 3 of degree (1, 1)\n",
      "label: 408d19\n",
      "in Nodes: [1]\n",
      "out Nodes: [2]\n",
      "Node 2 of degree (2, 0)\n",
      "label: 408d44\n",
      "in Nodes: [1, 3]\n",
      "out Nodes: []\n",
      "Node 408c40 does not exist yet.\n",
      "Node 408cf4 does not exist yet.\n",
      "Node 408cc9 does not exist yet.\n",
      "Node 1 of degree (0, 2)\n",
      "label: 408c40\n",
      "in Nodes: []\n",
      "out Nodes: [2, 3]\n",
      "Node 3 of degree (1, 1)\n",
      "label: 408cc9\n",
      "in Nodes: [1]\n",
      "out Nodes: [2]\n",
      "Node 408d30 does not exist yet.\n",
      "Node 408d21 does not exist yet.\n",
      "Node 2 of degree (2, 2)\n",
      "label: 408cf4\n",
      "in Nodes: [1, 3]\n",
      "out Nodes: [4, 5]\n",
      "Node 5 of degree (1, 1)\n",
      "label: 408d21\n",
      "in Nodes: [2]\n",
      "out Nodes: [4]\n",
      "Node 4 of degree (2, 0)\n",
      "label: 408d30\n",
      "in Nodes: [2, 5]\n",
      "out Nodes: []\n",
      "Node 408ba0 does not exist yet.\n",
      "Node 408db2 does not exist yet.\n",
      "Node 408c05 does not exist yet.\n",
      "Node 1 of degree (0, 2)\n",
      "label: 408ba0\n",
      "in Nodes: []\n",
      "out Nodes: [2, 3]\n",
      "Node 408c49 does not exist yet.\n",
      "Node 408c73 does not exist yet.\n",
      "Node 408da3 does not exist yet.\n",
      "Node 4 of degree (0, 2)\n",
      "label: 408c49\n",
      "in Nodes: []\n",
      "out Nodes: [5, 6]\n",
      "Node 408cd5 does not exist yet.\n",
      "Node 408d96 does not exist yet.\n",
      "Node 5 of degree (1, 2)\n",
      "label: 408c73\n",
      "in Nodes: [4]\n",
      "out Nodes: [7, 8]\n",
      "Node 408d1a does not exist yet.\n",
      "Node 7 of degree (1, 2)\n",
      "label: 408cd5\n",
      "in Nodes: [5]\n",
      "out Nodes: [9, 8]\n",
      "Node 408d5c does not exist yet.\n",
      "Node 408d53 does not exist yet.\n",
      "Node 9 of degree (1, 2)\n",
      "label: 408d1a\n",
      "in Nodes: [7]\n",
      "out Nodes: [10, 11]\n",
      "Node 11 of degree (1, 1)\n",
      "label: 408d53\n",
      "in Nodes: [9]\n",
      "out Nodes: [10]\n",
      "Node 408d7c does not exist yet.\n",
      "Node 10 of degree (2, 2)\n",
      "label: 408d5c\n",
      "in Nodes: [9, 11]\n",
      "out Nodes: [8, 12]\n",
      "Node 12 of degree (1, 1)\n",
      "label: 408d7c\n",
      "in Nodes: [10]\n",
      "out Nodes: [8]\n",
      "Node 8 of degree (4, 1)\n",
      "label: 408d96\n",
      "in Nodes: [5, 7, 10, 12]\n",
      "out Nodes: [6]\n",
      "Node 408dac does not exist yet.\n",
      "Node 6 of degree (2, 2)\n",
      "label: 408da3\n",
      "in Nodes: [4, 8]\n",
      "out Nodes: [2, 13]\n",
      "Node 13 of degree (1, 1)\n",
      "label: 408dac\n",
      "in Nodes: [6]\n",
      "out Nodes: [2]\n",
      "Node 408dee does not exist yet.\n",
      "Node 408ddf does not exist yet.\n",
      "Node 2 of degree (3, 2)\n",
      "label: 408db2\n",
      "in Nodes: [1, 6, 13]\n",
      "out Nodes: [14, 15]\n",
      "Node 15 of degree (1, 1)\n",
      "label: 408ddf\n",
      "in Nodes: [2]\n",
      "out Nodes: [14]\n",
      "Node 14 of degree (2, 0)\n",
      "label: 408dee\n",
      "in Nodes: [2, 15]\n",
      "out Nodes: []\n"
     ]
    }
   ],
   "source": [
    "import graph\n",
    "import re\n",
    "\n",
    "newGr = graph.Graph()\n",
    "originalGr = graph.Graph()\n",
    "\n",
    "newGr.readGraphFromJSON(\"D:/ClassWork/Guardista/Localizer/Graph/Graph_CGs/UserCode_subgraph162.json\")\n",
    "originalGr.readGraphFromJSON(\"D:/ClassWork/Guardista/Localizer/Graph/Graph_CGs/VulnerableCode_subgraph0.json\")\n",
    "\n",
    "newGr2 = graph.Graph()\n",
    "newGr2.readGraphFromJSON(\"D:/ClassWork/Guardista/Localizer/Graph/vuln_subgraphs/CWE23_Relative_Path_Traversal__char_connect_socket_fopen_07_subgraphs/CWE23_Relative_Path_Traversal__char_connect_socket_fopen_07_subgraph0.json\")"
   ]
  },
  {
   "cell_type": "code",
   "execution_count": 2,
   "metadata": {},
   "outputs": [],
   "source": [
    "#originalGr.mergeNodes(originalGr.getNodeFromID(2), originalGr.getNodeFromID(5))\n",
    "#originalGr.mergeNodes(originalGr.getNodeFromID(9), originalGr.getNodeFromID(10))\n",
    "#originalGr.mergeNodes(originalGr.getNodeFromID(9), originalGr.getNodeFromID(12))\n",
    "#newGr3.mergeNodes(newGr3.getNodeFromID(9), newGr3.getNodeFromID(11))\n",
    "originalGr.vizualizeGraph(title=\"Original\", saveGraph=True)\n",
    "newGr.vizualizeGraph(title=\"User\", saveGraph=True)"
   ]
  },
  {
   "cell_type": "code",
   "execution_count": 4,
   "metadata": {},
   "outputs": [
    {
     "name": "stdout",
     "output_type": "stream",
     "text": [
      "True\n"
     ]
    }
   ],
   "source": [
    "print(graph.matchTwoGraphs( newGr, originalGr))"
   ]
  },
  {
   "cell_type": "code",
   "execution_count": 5,
   "metadata": {},
   "outputs": [],
   "source": [
    "#newGr2.vizualizeGraph()"
   ]
  }
 ],
 "metadata": {
  "kernelspec": {
   "display_name": "Python 3",
   "language": "python",
   "name": "python3"
  },
  "language_info": {
   "codemirror_mode": {
    "name": "ipython",
    "version": 3
   },
   "file_extension": ".py",
   "mimetype": "text/x-python",
   "name": "python",
   "nbconvert_exporter": "python",
   "pygments_lexer": "ipython3",
   "version": "3.11.3"
  },
  "orig_nbformat": 4
 },
 "nbformat": 4,
 "nbformat_minor": 2
}
