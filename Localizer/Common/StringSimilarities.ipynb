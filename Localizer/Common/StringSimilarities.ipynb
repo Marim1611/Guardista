{
  "cells": [
    {
      "cell_type": "code",
      "execution_count": 1,
      "metadata": {},
      "outputs": [],
      "source": [
        "import CodePreprocessing as preprocessing\n",
        "import json\n",
        "import re\n",
        "import os\n",
        "import highlighter\n",
        "import matchers as matcher\n",
        "import LLNormalizer as normalizer\n",
        "import Winnowing\n",
        "import heapq\n",
        "import pickle\n",
        "from tqdm import tqdm\n",
        "import time\n",
        "import multiprocessing\n",
        "import graph\n",
        "from subprocess import run\n",
        "import pathlib"
      ]
    },
    {
      "attachments": {},
      "cell_type": "markdown",
      "metadata": {},
      "source": [
        "### Extract functions from LL files"
      ]
    },
    {
      "cell_type": "code",
      "execution_count": 2,
      "metadata": {},
      "outputs": [],
      "source": [
        "\n",
        "# ----------------- User functions  --------------------\n",
        "preprocessing.functions_preprocessing( llvm_file='pairs/UserCode/UserCode.ll', json_file='UserCode' )\n",
        "with open( 'UserCode.json', 'r' ) as f:\n",
        "    user_code = json.load(f) \n",
        "    user_code = dict(sorted(user_code.items(), key=lambda item: item[1]))\n",
        "\n",
        "\n",
        "# ----------------- Vulnerable functions ------------------\n",
        "# ----------------- Reading all vulnerable codes from the LLVM files\n",
        "\n",
        "vuln_codes_path= 'pairs/ourVulnCodes/'\n",
        "\n",
        "# loop on each folder in the path \n",
        "for folder in os.listdir(vuln_codes_path):\n",
        "\n",
        "    if not os.path.exists(vuln_codes_path+folder+'/jsons'):\n",
        "        os.makedirs(vuln_codes_path+folder+'/jsons')\n",
        "\n",
        "    # loop on each file in the folder\n",
        "    for file in os.listdir(vuln_codes_path+folder):\n",
        "        if file.endswith(\".ll\"):\n",
        "            file_name= file.split('.')[0]\n",
        "            preprocessing.functions_preprocessing( llvm_file=vuln_codes_path+folder+'/'+file, json_file=vuln_codes_path+folder+'/jsons/'+file_name )\n",
        "\n",
        "\n",
        "# ----------------- Reading all vulnerable codes from the JSON files and save it in a dictionary\n",
        "vulnerable_code= dict()\n",
        "\n",
        "for folder in os.listdir(vuln_codes_path):\n",
        "\n",
        "    # make dictionary for the folder with its name as the key \n",
        "    vulnerable_code[folder]= dict()\n",
        "    \n",
        "    for file in os.listdir(vuln_codes_path+folder+'/jsons'):\n",
        "        if file.endswith(\".json\"):\n",
        "            with open( vuln_codes_path+folder+'/jsons/'+file, 'r' ) as f:\n",
        "                vulnerable_code[folder].update(json.load(f)) "
      ]
    },
    {
      "attachments": {},
      "cell_type": "markdown",
      "metadata": {},
      "source": [
        "### Input Classification from previous module"
      ]
    },
    {
      "cell_type": "code",
      "execution_count": 3,
      "metadata": {},
      "outputs": [
        {
          "data": {
            "text/plain": [
              "\"\\nwith open ('../../temp/classification.txt', 'r') as f:\\n    content = f.read()\\nclasses = re.split('\\x08', content)\\n\""
            ]
          },
          "execution_count": 3,
          "metadata": {},
          "output_type": "execute_result"
        }
      ],
      "source": [
        "classes = ['23']\n",
        "\n",
        "\n",
        "#during integration, uncomment this instead, we assume the classification is in folder temp, in a file called classification.txt\n",
        "'''\n",
        "with open ('../../temp/classification.txt', 'r') as f:\n",
        "    content = f.read()\n",
        "classes = re.split('\\b', content)\n",
        "'''"
      ]
    },
    {
      "attachments": {},
      "cell_type": "markdown",
      "metadata": {},
      "source": [
        "### Matching"
      ]
    },
    {
      "cell_type": "code",
      "execution_count": 5,
      "metadata": {},
      "outputs": [],
      "source": [
        "def check_function_vulnerable(threshold,score1,score2,score3):\n",
        "    return score1 > threshold and score2 > threshold and score3 > threshold"
      ]
    },
    {
      "cell_type": "code",
      "execution_count": 6,
      "metadata": {},
      "outputs": [
        {
          "data": {
            "text/plain": [
              "'\\ndef passToMatchers(userFn, Vuln_Func, threshold):\\n    if((abs(len(userFn) - len(Vuln_Func)) / max(len(userFn), len(Vuln_Func)) > 0.9)):\\n        return [0,0,0,0,0,0], False\\n    jaro_winkler = matcher.jaro_winkler_similarity(userFn, Vuln_Func)\\n    levenshtein = matcher.levenshtein_similarity(userFn, Vuln_Func)\\n    ratcliff_obershelp = matcher.ratcliff_obershelp_similarity(userFn, Vuln_Func)\\n    trigram = matcher.trigram_similarity(userFn, Vuln_Func)\\n    sorensen_dice = matcher.sorensen_dice_similarity(userFn, Vuln_Func)\\n    jaccard_distance = matcher.jaccard_distance(userFn, Vuln_Func)\\n\\n    scores = [jaro_winkler, ratcliff_obershelp,levenshtein, trigram, sorensen_dice, jaccard_distance]\\n    scores = heapq.nlargest(6, scores)\\n\\n    score1, score2, score3 = scores[0], scores[1], scores[2]\\n    passed = check_function_vulnerable(threshold,score1,score2,score3)\\n    return scores, passed\\n'"
            ]
          },
          "execution_count": 6,
          "metadata": {},
          "output_type": "execute_result"
        }
      ],
      "source": [
        "#Same Function, But I tried to use this during threading attempt\n",
        "# python emulates threading but does not do threads (instead it slows things down ¯\\_(ツ)_/¯ )\n",
        "\n",
        "'''\n",
        "def passToMatchers(userFn, Vuln_Func, threshold):\n",
        "    if((abs(len(userFn) - len(Vuln_Func)) / max(len(userFn), len(Vuln_Func)) > 0.9)):\n",
        "        return [0,0,0,0,0,0], False\n",
        "    jaro_winkler = matcher.jaro_winkler_similarity(userFn, Vuln_Func)\n",
        "    levenshtein = matcher.levenshtein_similarity(userFn, Vuln_Func)\n",
        "    ratcliff_obershelp = matcher.ratcliff_obershelp_similarity(userFn, Vuln_Func)\n",
        "    trigram = matcher.trigram_similarity(userFn, Vuln_Func)\n",
        "    sorensen_dice = matcher.sorensen_dice_similarity(userFn, Vuln_Func)\n",
        "    jaccard_distance = matcher.jaccard_distance(userFn, Vuln_Func)\n",
        "\n",
        "    scores = [jaro_winkler, ratcliff_obershelp,levenshtein, trigram, sorensen_dice, jaccard_distance]\n",
        "    scores = heapq.nlargest(6, scores)\n",
        "\n",
        "    score1, score2, score3 = scores[0], scores[1], scores[2]\n",
        "    passed = check_function_vulnerable(threshold,score1,score2,score3)\n",
        "    return scores, passed\n",
        "'''"
      ]
    },
    {
      "attachments": {},
      "cell_type": "markdown",
      "metadata": {},
      "source": [
        "# String Matchers\n",
        "##### tightness is an int [ 0 - 1 ] usually is kept high, the greater the tightness, the slower the matching but more accurate."
      ]
    },
    {
      "cell_type": "code",
      "execution_count": 7,
      "metadata": {},
      "outputs": [
        {
          "name": "stdout",
          "output_type": "stream",
          "text": [
            "Vulnerable Family:  ['23']\n"
          ]
        },
        {
          "name": "stderr",
          "output_type": "stream",
          "text": [
            "  0%|          | 0/345 [00:00<?, ?it/s]"
          ]
        },
        {
          "name": "stderr",
          "output_type": "stream",
          "text": [
            "100%|██████████| 345/345 [00:08<00:00, 42.22it/s] "
          ]
        },
        {
          "name": "stdout",
          "output_type": "stream",
          "text": [
            "Vulnerable Family:  ['36']\n"
          ]
        },
        {
          "name": "stderr",
          "output_type": "stream",
          "text": [
            "\n"
          ]
        }
      ],
      "source": [
        "#applying KNN but with similarity measures, we take the top 3 scores in all similarity measures, if those top 3 passed the threshold, we do the ultimate test, MOSS.\n",
        "#K here equals 3\n",
        "\n",
        "threshold = 0.7\n",
        "k = 3\n",
        "tightness = 0.75\n",
        "\n",
        "#this is a dictionary of key: \n",
        "#                       dictionary of key: vulnerability family \n",
        "#                           and its value: dictionary of key: vulnerable function (which is in our database) and \n",
        "#                                                             code_scores for this vulnerable function (and the User Function)\n",
        "Vulnerable_Matches = {}\n",
        "\n",
        "for vuln_family, vuln_funcs in vulnerable_code.items():\n",
        "    print(\"Vulnerable Family: \", re.findall(r'\\d+', vuln_family))\n",
        "    \n",
        "    reprFolderClass = re.findall('\\d+', vuln_family)             #returns 23 from the folder name llfiles_23\n",
        "    if(not (reprFolderClass[0] in classes)):                     #skip this CVE class\n",
        "        continue\n",
        "\n",
        "    for key, fn in tqdm(user_code.items()):\n",
        "        code_scores = {}\n",
        "\n",
        "        for vuln_head, vuln_func in vuln_funcs.items():   \n",
        "            if((abs(len(fn) - len(vuln_func)) / max(len(fn), len(vuln_func)) > tightness)):\n",
        "                break \n",
        "            jaro_winkler=matcher.jaro_winkler_similarity(fn, vuln_func)\n",
        "            levenshtein=matcher.levenshtein_similarity(fn, vuln_func)\n",
        "            ratcliff_obershelp=matcher.ratcliff_obershelp_similarity(fn, vuln_func)\n",
        "            trigram=matcher.trigram_similarity(fn, vuln_func)\n",
        "            sorensen_dice=matcher.sorensen_dice_similarity(fn, vuln_func)\n",
        "            jaccard_distance=matcher.jaccard_distance(fn, vuln_func)\n",
        "\n",
        "            scores=[jaro_winkler,levenshtein,ratcliff_obershelp,trigram,sorensen_dice,jaccard_distance]\n",
        "            scores.sort(reverse=True) \n",
        "            if(check_function_vulnerable(threshold, scores[0], scores[1], scores[2])):\n",
        "                Vulnerable_Matches[(key, vuln_head)] = (fn, vuln_func)\n",
        "                #print((key, vuln_head))\n",
        "                break\n",
        "\n",
        "            code_scores[key]=scores\n",
        "            \n",
        "            \n",
        "\n",
        "\n",
        "        \n",
        "\n",
        "with open('code_scores.pkl', 'wb') as f:\n",
        "    pickle.dump(Vulnerable_Matches, f)"
      ]
    },
    {
      "attachments": {},
      "cell_type": "markdown",
      "metadata": {},
      "source": [
        "# MOSS"
      ]
    },
    {
      "cell_type": "code",
      "execution_count": 8,
      "metadata": {},
      "outputs": [
        {
          "name": "stdout",
          "output_type": "stream",
          "text": [
            "MOSS Caught this <3 !!!\n",
            "Accuracy_Metric 1 = 0.929006968641115  ||  Accuracy_Metric 2 = 0.5185995623632386\n",
            "hits: 4266 , misses: 326, misses2: 3960\n",
            "-----------------------\n",
            "\n",
            "\n",
            "from 1, MOSS took 1 from them\n",
            "and the Candidate matches are: \n",
            "[('@\"CWE23_Relative_Path_Traversal__char_connect_socket_fopen_01::goodG2B\"', '@\"CWE23_Relative_Path_Traversal__char_connect_socket_fopen_22::bad\"')]\n"
          ]
        }
      ],
      "source": [
        "#Candidate_Functions is a list of tuples, each containing a possible Match. A Match means User Function matching a Vulnerable Function\n",
        "Candidate_Functions = []\n",
        "\n",
        "with open('code_scores.pkl', 'rb') as f:\n",
        "    Vulnerable_Matches = pickle.load(f)\n",
        "\n",
        "for PairHeads, PairFuncs in Vulnerable_Matches.items():\n",
        "    UserFuncHead = PairHeads[0]\n",
        "    VulnFuncHead = PairHeads[1]\n",
        "\n",
        "    UserFunc = PairFuncs[0]\n",
        "    VulnFunc = PairFuncs[1]\n",
        "\n",
        "    #sometimes normalizing behaves good, sometimes bad.\n",
        "    VulnFuncNorm = normalizer.NormalizeLLVM(VulnFunc)\n",
        "    UserFuncNorm = normalizer.NormalizeLLVM(UserFunc)\n",
        "\n",
        "    #MOSS Metrics (defined in Winnowing.py), Parameters passed: k=20, ws = 10, P=10\n",
        "    MOSS_Acc_metric1, MOSS_Acc_metric2, hits, misses1, misses2 = Winnowing.diff(UserFuncNorm, VulnFuncNorm, K= 20, WindowSize= 10, P= 10)\n",
        "\n",
        "    #MOSS Thresholds, 0.7 for Metric1, 0.7 for Metric2, those thresholds are highly dependent on the vulnerability type unfortunately.\n",
        "    if(MOSS_Acc_metric1>0.7 or MOSS_Acc_metric2>0.7):\n",
        "        print(f\"MOSS Caught this <3 !!!\")\n",
        "        print(f\"Accuracy_Metric 1 = {MOSS_Acc_metric1}  ||  Accuracy_Metric 2 = {MOSS_Acc_metric2}\\nhits: {hits} , misses: {misses1}, misses2: {misses2}\")\n",
        "        found_vuln = True\n",
        "\n",
        "        #Candidate_Functions containg a tuple of (original function head, vulnerable function name (which is stored with us))\n",
        "        Candidate_Functions.append((re.findall('(@.*)\\(', UserFuncHead)[0]  ,  re.findall('(@.*)\\(', VulnFuncHead)[0]))\n",
        "        \n",
        "\n",
        "    print('-----------------------')\n",
        "\n",
        "print(f\"\\n\\nfrom {len(Vulnerable_Matches)}, MOSS took {len(Candidate_Functions)} from them\")\n",
        "print(f\"and the Candidate matches are: \\n{Candidate_Functions}\")\n",
        "    \n",
        "    "
      ]
    },
    {
      "attachments": {},
      "cell_type": "markdown",
      "metadata": {},
      "source": [
        "# Graph matching ان شاء الله"
      ]
    },
    {
      "cell_type": "code",
      "execution_count": 9,
      "metadata": {},
      "outputs": [
        {
          "data": {
            "text/plain": [
              "CompletedProcess(args=['python', 'D:/ClassWork/Guardista/IrToCFGs/generate_subgraphs.py', '0', 'D:/ClassWork/Guardista/Localizer/Common/pairs/UserCode', 'D:/ClassWork/Guardista/Localizer/Common/pairs'], returncode=1)"
            ]
          },
          "execution_count": 9,
          "metadata": {},
          "output_type": "execute_result"
        }
      ],
      "source": [
        "\n",
        "\n",
        "#Path to Marim's script generate_subgraphs.py\n",
        "absPathtoCFGScript = str(os.path.abspath(\"../../IrToCFGs/generate_subgraphs.py\")).replace(\"\\\\\", \"/\")\n",
        "absPathtoCFGScript = list(absPathtoCFGScript)\n",
        "absPathtoCFGScript[0] = absPathtoCFGScript[0].upper()\n",
        "absPathtoCFGScript = ''.join(absPathtoCFGScript)\n",
        "\n",
        "\n",
        "#Path to the pairs folder in this directory\n",
        "absPathtoPairsFolder = (str(os.getcwd())+\"/pairs\").replace(\"\\\\\", \"/\")\n",
        "absPathtoPairsFolder = list(absPathtoPairsFolder)\n",
        "absPathtoPairsFolder[0] = absPathtoPairsFolder[0].upper()\n",
        "absPathtoPairsFolder = ''.join(absPathtoPairsFolder)\n",
        "\n",
        "#run CFG script on all subfolders inside pairs folder\n",
        "run([\"python\",absPathtoCFGScript, \"0\", absPathtoPairsFolder+'/ourVulnCodes' , absPathtoPairsFolder])\n",
        "run([\"python\",absPathtoCFGScript, \"0\", absPathtoPairsFolder+'/UserCode' , absPathtoPairsFolder])"
      ]
    },
    {
      "cell_type": "code",
      "execution_count": 10,
      "metadata": {},
      "outputs": [
        {
          "name": "stdout",
          "output_type": "stream",
          "text": [
            "Parsed 1600 Graphs\n"
          ]
        }
      ],
      "source": [
        "#Prepare graphs for Vulnerable code, precompute them and store them in a list\n",
        "#Vulnerable code (we are storing) is put inside a folder called ourVulnCodes, and the corresponding CFGs is inside a folder called ourVulnCodes_subgraphs/VulnerableCode_subgraphs\n",
        "PairsFolder = os.listdir('pairs')\n",
        "\n",
        "\n",
        "#List containing graphs of each precomputed Vulnerable Code\n",
        "ourGraphs = []\n",
        "\n",
        "for llfileCFGFolder in PairsFolder:\n",
        "    if (llfileCFGFolder[0:7] != 'llfiles'):\n",
        "        continue\n",
        "\n",
        "    subFamilyFolders = os.listdir(f\"pairs/{llfileCFGFolder}\")\n",
        "    for subFamFolder in subFamilyFolders:\n",
        "        allJsons = os.listdir(f'pairs/{llfileCFGFolder}/{subFamFolder}')\n",
        "        for jsonFile in allJsons:\n",
        "            fulljsonFilePath = f'pairs/{llfileCFGFolder}/{subFamFolder}/{jsonFile}'\n",
        "            newGraph = graph.Graph()\n",
        "            newGraph.readGraphFromJSON(fulljsonFilePath)\n",
        "            ourGraphs.append(newGraph)\n",
        "\n",
        "print(f\"Parsed {len(ourGraphs)} Graphs\")"
      ]
    },
    {
      "cell_type": "code",
      "execution_count": 11,
      "metadata": {},
      "outputs": [
        {
          "name": "stdout",
          "output_type": "stream",
          "text": [
            "[('@\"CWE23_Relative_Path_Traversal__char_connect_socket_fopen_01::goodG2B\"', '@\"CWE23_Relative_Path_Traversal__char_connect_socket_fopen_22::bad\"')]\n"
          ]
        }
      ],
      "source": [
        "print(Candidate_Functions)"
      ]
    },
    {
      "cell_type": "code",
      "execution_count": 12,
      "metadata": {},
      "outputs": [
        {
          "name": "stderr",
          "output_type": "stream",
          "text": [
            "100%|██████████| 412/412 [00:00<00:00, 5350.76it/s]\n"
          ]
        }
      ],
      "source": [
        "'''\n",
        "we are trying to find the json file containing the name of the candidate functions (we will not compute CFG of EVERY possible function, rather just the candidate functions),\n",
        "if we found a json of a candidate function, we compute its graph and perform the matching.\n",
        "\n",
        "candidate functions are the functions that passed MOSS\n",
        "'''\n",
        "\n",
        "\n",
        "UserCodeSubgraphsFolder = 'pairs' + \"/UserCode_subgraphs/UserCode_subgraphs\"\n",
        "\n",
        "final_Matched_Functions = []\n",
        "VulnFunctionNames = [i[1] for i in Candidate_Functions]\n",
        "\n",
        "allFiles = os.listdir(UserCodeSubgraphsFolder)\n",
        "for jsonfile in tqdm(allFiles):\n",
        "    fulljsonFilePath = UserCodeSubgraphsFolder+'/'+jsonfile\n",
        "    if(pathlib.Path(jsonfile).suffix != \".json\"):\n",
        "        continue\n",
        "    with open(fulljsonFilePath) as f:\n",
        "        jsonDict = json.load(f)\n",
        "    functionName = jsonDict[\"function_name\"].replace('\\\\', '')\n",
        "    \n",
        "\n",
        "    if(functionName in [i[0] for i in Candidate_Functions]):              #check if the function name is inside Candidate Functions\n",
        "        #Construct User Graph and Perform Matching\n",
        "        UserCodeGraph = graph.Graph()\n",
        "        UserCodeGraph.readGraphFromJSON(fulljsonFilePath)\n",
        "        MatchPairs = graph.matchGraphWithListOfGraphs(UserCodeGraph , ourGraphs, Names=VulnFunctionNames,otherWayAround=True, timeLimit=300)\n",
        "        \n",
        "        #MatchPairs is a list of Tuples, each Tuples contains the UserFunction Name and the Function Name stored in our Database\n",
        "        if(MatchPairs):\n",
        "            final_Matched_Functions.append(MatchPairs)"
      ]
    },
    {
      "attachments": {},
      "cell_type": "markdown",
      "metadata": {},
      "source": [
        "# Final Matches الحمد لله"
      ]
    },
    {
      "cell_type": "code",
      "execution_count": 13,
      "metadata": {},
      "outputs": [
        {
          "name": "stdout",
          "output_type": "stream",
          "text": [
            "[[('@\"CWE23_Relative_Path_Traversal__char_connect_socket_fopen_01::goodG2B\"', '@\"CWE23_Relative_Path_Traversal__char_connect_socket_fopen_22::bad\"'), ('@\"CWE23_Relative_Path_Traversal__char_connect_socket_fopen_01::goodG2B\"', '@\"CWE23_Relative_Path_Traversal__char_connect_socket_fopen_22::bad\"'), ('@\"CWE23_Relative_Path_Traversal__char_connect_socket_fopen_01::goodG2B\"', '@\"CWE23_Relative_Path_Traversal__char_connect_socket_fopen_22::bad\"'), ('@\"CWE23_Relative_Path_Traversal__char_connect_socket_fopen_01::goodG2B\"', '@\"CWE23_Relative_Path_Traversal__char_connect_socket_fopen_22::bad\"')]]\n"
          ]
        }
      ],
      "source": [
        "print(final_Matched_Functions)\n",
        "# NOTICE NO FALSE POSITIVES NOR FALSE NEGATIVES <3 <3 <3"
      ]
    },
    {
      "cell_type": "code",
      "execution_count": null,
      "metadata": {},
      "outputs": [],
      "source": [
        "\n",
        "#Cleanup\n",
        "files = os.listdir('./')\n",
        "files = [ fi for fi in files if fi.endswith(\".json\")]\n",
        "for f in files:\n",
        "    os.remove(f)\n"
      ]
    },
    {
      "attachments": {},
      "cell_type": "markdown",
      "metadata": {},
      "source": [
        "# Highlighter\n",
        "##### the GUI should read the file span.txt written inside 'temp' folder <br> to highlight the exact span of the function in the source code\n",
        "### the source code should be inside 'temp/source/'"
      ]
    },
    {
      "cell_type": "code",
      "execution_count": null,
      "metadata": {},
      "outputs": [],
      "source": [
        "\n",
        "\n",
        "srcFiles = os.listdir(\"../../temp/source\")\n",
        "print(srcFiles)\n",
        "\n",
        "for src in srcFiles:\n",
        "    currentPath = str(os.getcwd()).replace('\\\\', '/')\n",
        "    \n",
        "    currentPath = re.split(r\"/\" ,currentPath)[:-2]\n",
        "    print(currentPath)\n",
        "    srcFilePath = currentPath+ ['temp','source',src]\n",
        "    print(srcFilePath)\n",
        "    srcFilePath = '/'.join(srcFilePath)\n",
        "    print(srcFilePath)\n",
        "\n",
        "    for func,_ in final_Matched_Functions:\n",
        "        highlighter.getMatchingLines(srcFilePath, func)"
      ]
    }
  ],
  "metadata": {
    "colab": {
      "provenance": []
    },
    "kernelspec": {
      "display_name": "Python 3",
      "name": "python3"
    },
    "language_info": {
      "codemirror_mode": {
        "name": "ipython",
        "version": 3
      },
      "file_extension": ".py",
      "mimetype": "text/x-python",
      "name": "python",
      "nbconvert_exporter": "python",
      "pygments_lexer": "ipython3",
      "version": "3.11.3"
    }
  },
  "nbformat": 4,
  "nbformat_minor": 0
}
