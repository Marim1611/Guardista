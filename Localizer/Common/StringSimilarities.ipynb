{
  "cells": [
    {
      "attachments": {},
      "cell_type": "markdown",
      "metadata": {},
      "source": [
        "### Extract functions from LL files"
      ]
    },
    {
      "cell_type": "code",
      "execution_count": 1,
      "metadata": {},
      "outputs": [],
      "source": [
        "import CodePreprocessing as preprocessing\n",
        "import json"
      ]
    },
    {
      "cell_type": "code",
      "execution_count": 2,
      "metadata": {},
      "outputs": [],
      "source": [
        "\n",
        "# ----------------- user functions  --------------------\n",
        "preprocessing.functions_preprocessing( llvm_file='pairs/UserCode.ll', json_file='UserCode' )\n",
        "with open( 'UserCode.json', 'r' ) as f:\n",
        "    user_code = json.load( f ) \n",
        "\n",
        "# ----------------- Vulnerable function ------------------\n",
        "preprocessing.functions_preprocessing(llvm_file='pairs/VulnerableCode2.ll', json_file='VulnerableCode' )\n",
        "with open( 'VulnerableCode.json', 'r' ) as f:\n",
        "    vulnerable_code = json.load( f )\n",
        "\n",
        "vulnerable_function=[]\n",
        "for key in vulnerable_code:\n",
        "    vulnerable_function.append(vulnerable_code[key])\n"
      ]
    },
    {
      "attachments": {},
      "cell_type": "markdown",
      "metadata": {},
      "source": [
        "### Matching"
      ]
    },
    {
      "cell_type": "code",
      "execution_count": 3,
      "metadata": {
        "colab": {
          "base_uri": "https://localhost:8080/"
        },
        "id": "xAUxk6Oql4zr",
        "outputId": "075923bf-4d53-4a48-f894-cfae71e0e118"
      },
      "outputs": [],
      "source": [
        "import matchers as matcher\n",
        "import LLNormalizer as normalizer\n",
        "import Winnowing"
      ]
    },
    {
      "cell_type": "code",
      "execution_count": 4,
      "metadata": {},
      "outputs": [],
      "source": [
        "def check_function_vulnerable(threshold,score1,score2,score3):\n",
        "    return score1 > threshold and score2 > threshold and score3 > threshold"
      ]
    },
    {
      "cell_type": "code",
      "execution_count": 5,
      "metadata": {},
      "outputs": [],
      "source": [
        "#applying KNN but with similarity measures, we take the top 3 scores in all similarity measures, if those top 3 passed the threshold, we do the ultimate test, MOSS.\n",
        "#K here equals 3\n",
        "\n",
        "threshold=0.7\n",
        "k=3\n",
        "\n",
        "#this is a dictionary of key: vulnerable function (which is in our database)        value: code_scores for this vulnerable function\n",
        "Vulnerable_Matches = dict()\n",
        "\n",
        "for k,v in vulnerable_code.items():\n",
        "    vuln_func = v\n",
        "    vuln_head=k\n",
        "    code_scores=dict()\n",
        "\n",
        "\n",
        "    for key in user_code:\n",
        "        fn=user_code[key] \n",
        "        #fn=normalizer.NormalizeLLVM(fn)\n",
        "\n",
        "        jaro_winkler=matcher.jaro_winkler_similarity(fn, vuln_func)\n",
        "        levenshtein=matcher.levenshtein_similarity(fn, vuln_func)\n",
        "        ratcliff_obershelp=matcher.ratcliff_obershelp_similarity(fn, vuln_func)\n",
        "        trigram=matcher.trigram_similarity(fn, vuln_func)\n",
        "        sorensen_dice=matcher.sorensen_dice_similarity(fn, vuln_func)\n",
        "        jaccard_distance=matcher.jaccard_distance(fn, vuln_func)\n",
        "\n",
        "        scores=[jaro_winkler,levenshtein,ratcliff_obershelp,trigram,sorensen_dice,jaccard_distance]\n",
        "        scores.sort(reverse=True) \n",
        "        code_scores[key]=scores\n",
        "    \n",
        "    Vulnerable_Matches[vuln_head] = code_scores\n",
        "\n",
        "with open('code_scores.json', 'w') as f:\n",
        "    f.write(json.dumps(Vulnerable_Matches, indent=6))"
      ]
    },
    {
      "cell_type": "code",
      "execution_count": null,
      "metadata": {
        "colab": {
          "base_uri": "https://localhost:8080/"
        },
        "id": "k5Q4kGpol945",
        "outputId": "f7424431-24d8-4ae8-efef-855983cc0e5d"
      },
      "outputs": [],
      "source": []
    },
    {
      "attachments": {},
      "cell_type": "markdown",
      "metadata": {},
      "source": [
        "# MOSS"
      ]
    },
    {
      "cell_type": "code",
      "execution_count": 6,
      "metadata": {},
      "outputs": [
        {
          "name": "stdout",
          "output_type": "stream",
          "text": [
            "\n",
            "\n",
            "Vulnerable function found: define void @\"CWE23_Relative_Path_Traversal__char_environment_fopen_41::bad\"() local_unnamed_addr {\n",
            "\n",
            "MOSS Caught this <3 !!!\n",
            "Accuracy_Metric 1 = 1.0  ||  Accuracy_Metric 2 = 0.5\n",
            "hits: 4471 , misses: 0, misses2: 4471\n",
            "-----------------------\n",
            "\n",
            "\n",
            "Vulnerable function found: define void @\"CWE23_Relative_Path_Traversal__char_environment_fopen_41::goodG2B\"() local_unnamed_addr {\n",
            "\n",
            "MOSS Caught this <3 !!!\n",
            "Accuracy_Metric 1 = 0.889532293986637  ||  Accuracy_Metric 2 = 0.5317534283051525\n",
            "hits: 3994 , misses: 496, misses2: 3517\n",
            "-----------------------\n",
            "\n",
            "\n",
            "Vulnerable function found: define void @\"CWE23_Relative_Path_Traversal__char_environment_fopen_41::badSink\"(i8* %data) local_unnamed_addr {\n",
            "\n",
            "MOSS Caught this <3 !!!\n",
            "Accuracy_Metric 1 = 1.0  ||  Accuracy_Metric 2 = 0.5\n",
            "hits: 408 , misses: 0, misses2: 408\n",
            "-----------------------\n",
            "\n",
            "\n",
            "Vulnerable function found: define void @\"CWE23_Relative_Path_Traversal__char_environment_fopen_41::goodG2BSink\"(i8* %data) local_unnamed_addr {\n",
            "\n",
            "MOSS Caught this <3 !!!\n",
            "Accuracy_Metric 1 = 1.0  ||  Accuracy_Metric 2 = 0.5\n",
            "hits: 408 , misses: 0, misses2: 408\n",
            "-----------------------\n"
          ]
        }
      ],
      "source": [
        "for k,v in vulnerable_code.items():\n",
        "    vuln_func = v\n",
        "    vuln_head = k\n",
        "\n",
        "    #Normalizing the vulnerable function with us (not user code)\n",
        "    normalizedvuln = normalizer.NormalizeLLVM(vuln_func)\n",
        "\n",
        "    #for each function passing the threshold, do MOSS.\n",
        "    for key in Vulnerable_Matches[vuln_head]:\n",
        "        code_scores = Vulnerable_Matches[vuln_head]\n",
        "        if check_function_vulnerable(threshold,code_scores[key][0],code_scores[key][1],code_scores[key][2]):\n",
        "            fn = user_code[key]\n",
        "\n",
        "            #sometimes normalizing behaves good, sometimes bad.\n",
        "            normalizedfn = normalizer.NormalizeLLVM(fn)\n",
        "            \n",
        "            #MOSS Metrics (defined in Winnowing.py), Parameters passed: k=20, ws = 10, P=10\n",
        "            MOSS_Acc_metric1, MOSS_Acc_metric2, hits, misses1, misses2 = Winnowing.diff(normalizedfn, normalizedvuln, K= 20, WindowSize= 10, P= 10)\n",
        "            \n",
        "            print(\"\\n\\nVulnerable function found:\",key)\n",
        "\n",
        "            #MOSS Thresholds, 0.7 for Metric1, 0.7 for Metric2, those thresholds are highly dependent on the vulnerability type unfortunately.\n",
        "            if(MOSS_Acc_metric1>0.7 or MOSS_Acc_metric2>0.7):\n",
        "                print(f\"MOSS Caught this <3 !!!\")\n",
        "                print(f\"Accuracy_Metric 1 = {MOSS_Acc_metric1}  ||  Accuracy_Metric 2 = {MOSS_Acc_metric2}\\nhits: {hits} , misses: {misses1}, misses2: {misses2}\")\n",
        "            print('-----------------------')"
      ]
    },
    {
      "cell_type": "code",
      "execution_count": 1,
      "metadata": {},
      "outputs": [],
      "source": [
        "#Cleanup\n",
        "\n",
        "import os\n",
        "files = os.listdir('./')\n",
        "files = [ fi for fi in files if fi.endswith(\".json\") ]\n",
        "for f in files:\n",
        "    os.remove(f)"
      ]
    }
  ],
  "metadata": {
    "colab": {
      "provenance": []
    },
    "kernelspec": {
      "display_name": "Python 3",
      "name": "python3"
    },
    "language_info": {
      "codemirror_mode": {
        "name": "ipython",
        "version": 3
      },
      "file_extension": ".py",
      "mimetype": "text/x-python",
      "name": "python",
      "nbconvert_exporter": "python",
      "pygments_lexer": "ipython3",
      "version": "3.11.3"
    }
  },
  "nbformat": 4,
  "nbformat_minor": 0
}
