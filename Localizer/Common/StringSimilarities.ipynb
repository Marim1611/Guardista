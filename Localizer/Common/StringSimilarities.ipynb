{
  "cells": [
    {
      "attachments": {},
      "cell_type": "markdown",
      "metadata": {},
      "source": [
        "### Extract functions from LL files"
      ]
    },
    {
      "cell_type": "code",
      "execution_count": 1,
      "metadata": {},
      "outputs": [],
      "source": [
        "import CodePreprocessing as preprocessing\n",
        "import json\n",
        "import re\n",
        "import os"
      ]
    },
    {
      "cell_type": "code",
      "execution_count": 27,
      "metadata": {},
      "outputs": [],
      "source": [
        "\n",
        "# ----------------- User functions  --------------------\n",
        "preprocessing.functions_preprocessing( llvm_file='pairs/UserCode/UserCode.ll', json_file='UserCode' )\n",
        "with open( 'UserCode.json', 'r' ) as f:\n",
        "    user_code = json.load(f) \n",
        "\n",
        "\n",
        "# ----------------- Vulnerable functions ------------------\n",
        "# ----------------- Reading all vulnerable codes from the LLVM files\n",
        "\n",
        "vuln_codes_path= 'pairs/ourVulnCodes/'\n",
        "\n",
        "# loop on each folder in the path \n",
        "for folder in os.listdir(vuln_codes_path):\n",
        "\n",
        "    if not os.path.exists(vuln_codes_path+folder+'/jsons'):\n",
        "        os.makedirs(vuln_codes_path+folder+'/jsons')\n",
        "\n",
        "    # loop on each file in the folder\n",
        "    for file in os.listdir(vuln_codes_path+folder):\n",
        "        if file.endswith(\".ll\"):\n",
        "            file_name= file.split('.')[0]\n",
        "            preprocessing.functions_preprocessing( llvm_file=vuln_codes_path+folder+'/'+file, json_file=vuln_codes_path+folder+'/jsons/'+file_name )\n",
        "\n",
        "\n",
        "# ----------------- Reading all vulnerable codes from the JSON files and save it in a dictionary\n",
        "vulnerable_code= dict()\n",
        "\n",
        "for folder in os.listdir(vuln_codes_path):\n",
        "\n",
        "    # make dictionary for the folder with its name as the key \n",
        "    vulnerable_code[folder]= dict()\n",
        "    \n",
        "    for file in os.listdir(vuln_codes_path+folder+'/jsons'):\n",
        "        if file.endswith(\".json\"):\n",
        "            with open( vuln_codes_path+folder+'/jsons/'+file, 'r' ) as f:\n",
        "                vulnerable_code[folder].update(json.load(f)) "
      ]
    },
    {
      "attachments": {},
      "cell_type": "markdown",
      "metadata": {},
      "source": [
        "### Matching"
      ]
    },
    {
      "cell_type": "code",
      "execution_count": 30,
      "metadata": {
        "colab": {
          "base_uri": "https://localhost:8080/"
        },
        "id": "xAUxk6Oql4zr",
        "outputId": "075923bf-4d53-4a48-f894-cfae71e0e118"
      },
      "outputs": [],
      "source": [
        "import matchers as matcher\n",
        "import LLNormalizer as normalizer\n",
        "import Winnowing\n",
        "import heapq"
      ]
    },
    {
      "cell_type": "code",
      "execution_count": 31,
      "metadata": {},
      "outputs": [],
      "source": [
        "def check_function_vulnerable(threshold,score1,score2,score3):\n",
        "    return score1 > threshold and score2 > threshold and score3 > threshold"
      ]
    },
    {
      "cell_type": "code",
      "execution_count": 41,
      "metadata": {},
      "outputs": [
        {
          "name": "stdout",
          "output_type": "stream",
          "text": [
            "Vulnerable Family:  CWE114\n",
            "Vulnerable Family:  CWE23\n"
          ]
        }
      ],
      "source": [
        "#applying KNN but with similarity measures, we take the top 3 scores in all similarity measures, if those top 3 passed the threshold, we do the ultimate test, MOSS.\n",
        "#K here equals 3\n",
        "\n",
        "threshold = 0.7\n",
        "k = 3\n",
        "\n",
        "#this is a dictionary of key: \n",
        "#                       dictionary of key: vulnerability family \n",
        "#                           and its value: dictionary of key: vulnerable function (which is in our database) and \n",
        "#                                                             code_scores for this vulnerable function (and the User Function)\n",
        "Vulnerable_Matches = {}\n",
        "\n",
        "for vuln_family, vuln_funcs in vulnerable_code.items():\n",
        "    print(\"Vulnerable Family: \", vuln_family)\n",
        "\n",
        "    for vuln_head, vuln_func in vuln_funcs.items():\n",
        "        code_scores = {}\n",
        "\n",
        "        for key, fn in user_code.items():\n",
        "            jaro_winkler = matcher.jaro_winkler_similarity(fn, vuln_func)\n",
        "            levenshtein = matcher.levenshtein_similarity(fn, vuln_func)\n",
        "            ratcliff_obershelp = matcher.ratcliff_obershelp_similarity(fn, vuln_func)\n",
        "            trigram = matcher.trigram_similarity(fn, vuln_func)\n",
        "            sorensen_dice = matcher.sorensen_dice_similarity(fn, vuln_func)\n",
        "            jaccard_distance = matcher.jaccard_distance(fn, vuln_func)\n",
        "            scores = [jaro_winkler, levenshtein, ratcliff_obershelp, trigram, sorensen_dice, jaccard_distance]\n",
        "\n",
        "            scores = heapq.nlargest(6, scores)\n",
        "            code_scores[key] = scores\n",
        "\n",
        "        if code_scores:\n",
        "            Vulnerable_Matches.setdefault(vuln_family, {})[vuln_head] = code_scores\n",
        "\n",
        "with open('code_scores.json', 'w') as f:\n",
        "    json.dump(Vulnerable_Matches, f, indent=4)"
      ]
    },
    {
      "attachments": {},
      "cell_type": "markdown",
      "metadata": {},
      "source": [
        "# MOSS"
      ]
    },
    {
      "cell_type": "code",
      "execution_count": 80,
      "metadata": {},
      "outputs": [
        {
          "name": "stdout",
          "output_type": "stream",
          "text": [
            "The Family:  CWE114\n",
            "\n",
            "\n",
            "Vulnerable function found: define void @\"CWE23_Relative_Path_Traversal__char_connect_socket_fopen_01::bad\"() local_unnamed_addr { CVE23, \n",
            "\n",
            "MOSS Caught this <3 !!!\n",
            "Accuracy_Metric 1 = 1.0  ||  Accuracy_Metric 2 = 0.5\n",
            "hits: 12445 , misses: 0, misses2: 12445\n",
            "Candidate_Functions:  [('@\"CWE23_Relative_Path_Traversal__char_connect_socket_fopen_01::bad\"', '@\"CWE23_Relative_Path_Traversal__char_connect_socket_fopen_04::bad\"')]\n",
            "-----------------------\n",
            "The Family:  CWE23\n",
            "\n",
            "\n",
            "Vulnerable function found: define void @\"CWE23_Relative_Path_Traversal__char_connect_socket_fopen_01::bad\"() local_unnamed_addr { CVE23, \n",
            "\n",
            "MOSS Caught this <3 !!!\n",
            "Accuracy_Metric 1 = 1.0  ||  Accuracy_Metric 2 = 0.5\n",
            "hits: 12445 , misses: 0, misses2: 12445\n",
            "Candidate_Functions:  [('@\"CWE23_Relative_Path_Traversal__char_connect_socket_fopen_01::bad\"', '@\"CWE23_Relative_Path_Traversal__char_connect_socket_fopen_04::bad\"'), ('@\"CWE23_Relative_Path_Traversal__char_connect_socket_fopen_01::bad\"', '@\"CWE23_Relative_Path_Traversal__char_connect_socket_fopen_04::bad\"')]\n",
            "-----------------------\n"
          ]
        }
      ],
      "source": [
        "#Candidate_Functions is a list of tuples, each containing a possible Match. A Match means User Function matching a Vulnerable Function\n",
        "Candidate_Functions = []\n",
        "for vuln_family, vuln_funcs in vulnerable_code.items():\n",
        "\n",
        "    print(\"The Family: \", vuln_family)\n",
        "\n",
        "    found_vuln = False\n",
        "    \n",
        "    for vuln_head, vuln_func in vuln_funcs.items():\n",
        "\n",
        "        #Normalizing the vulnerable function with us (not user code)\n",
        "        normalizedvuln = normalizer.NormalizeLLVM(vuln_func)\n",
        "\n",
        "        #for each function passing the threshold, do MOSS.\n",
        "        for user_function in Vulnerable_Matches[vuln_family][vuln_head]:\n",
        "            code_scores = Vulnerable_Matches[vuln_family][vuln_head]\n",
        "            \n",
        "            if check_function_vulnerable(threshold,code_scores[user_function][0],code_scores[user_function][1],code_scores[user_function][2]):\n",
        "                fn = user_code[user_function]\n",
        "\n",
        "                #sometimes normalizing behaves good, sometimes bad.\n",
        "                normalizedfn = normalizer.NormalizeLLVM(fn)\n",
        "                    \n",
        "                #MOSS Metrics (defined in Winnowing.py), Parameters passed: k=20, ws = 10, P=10\n",
        "                MOSS_Acc_metric1, MOSS_Acc_metric2, hits, misses1, misses2 = Winnowing.diff(normalizedfn, normalizedvuln, K= 20, WindowSize= 10, P= 10)\n",
        "                \n",
        "                print(\"\\n\\nVulnerable function found:\",user_function)\n",
        "\n",
        "                #MOSS Thresholds, 0.7 for Metric1, 0.7 for Metric2, those thresholds are highly dependent on the vulnerability type unfortunately.\n",
        "                if(MOSS_Acc_metric1>0.7 or MOSS_Acc_metric2>0.7):\n",
        "                    print(f\"MOSS Caught this <3 !!!\")\n",
        "                    print(f\"Accuracy_Metric 1 = {MOSS_Acc_metric1}  ||  Accuracy_Metric 2 = {MOSS_Acc_metric2}\\nhits: {hits} , misses: {misses1}, misses2: {misses2}\")\n",
        "                    found_vuln = True\n",
        "\n",
        "                    #Candidate_Functions containg a tuple of (original function head, vulnerable function name (which is stored with us))\n",
        "                    Candidate_Functions.append((re.findall('(@.*)\\(', user_function)[0]  ,  re.findall('(@.*)\\(', vuln_head)[0]))\n",
        "                    print(\"Candidate_Functions: \", Candidate_Functions)\n",
        "\n",
        "                print('-----------------------')\n",
        "\n",
        "        if found_vuln:\n",
        "            break"
      ]
    },
    {
      "cell_type": "code",
      "execution_count": 83,
      "metadata": {},
      "outputs": [
        {
          "name": "stdout",
          "output_type": "stream",
          "text": [
            "('@\"CWE23_Relative_Path_Traversal__char_connect_socket_fopen_01::bad\"', '@\"CWE23_Relative_Path_Traversal__char_connect_socket_fopen_04::bad\"')\n",
            "('@\"CWE23_Relative_Path_Traversal__char_connect_socket_fopen_01::bad\"', '@\"CWE23_Relative_Path_Traversal__char_connect_socket_fopen_04::bad\"')\n",
            "Number of candidate functions:  2\n"
          ]
        }
      ],
      "source": [
        "for i in Candidate_Functions:\n",
        "    print(i)"
      ]
    },
    {
      "attachments": {},
      "cell_type": "markdown",
      "metadata": {},
      "source": [
        "# Graph matching ان شاء الله"
      ]
    },
    {
      "cell_type": "code",
      "execution_count": 84,
      "metadata": {},
      "outputs": [
        {
          "data": {
            "text/plain": [
              "CompletedProcess(args=['python', 'D:/Guardista/IrToCFGs/generate_subgraphs.py', '0', 'D:/Guardista/Localizer/Common/pairs', 'D:/Guardista/Localizer/Common/pairs'], returncode=0)"
            ]
          },
          "execution_count": 84,
          "metadata": {},
          "output_type": "execute_result"
        }
      ],
      "source": [
        "import graph\n",
        "import os\n",
        "import re\n",
        "from subprocess import run\n",
        "import pathlib\n",
        "import json\n",
        "\n",
        "#Path to Marim's script generate_subgraphs.py\n",
        "absPathtoCFGScript = str(os.path.abspath(\"../../IrToCFGs/generate_subgraphs.py\")).replace(\"\\\\\", \"/\")\n",
        "absPathtoCFGScript = list(absPathtoCFGScript)\n",
        "absPathtoCFGScript[0] = absPathtoCFGScript[0].upper()\n",
        "absPathtoCFGScript = ''.join(absPathtoCFGScript)\n",
        "\n",
        "\n",
        "#Path to the pairs folder in this directory\n",
        "absPathtoPairsFolder = (str(os.getcwd())+\"/pairs\").replace(\"\\\\\", \"/\")\n",
        "absPathtoPairsFolder = list(absPathtoPairsFolder)\n",
        "absPathtoPairsFolder[0] = absPathtoPairsFolder[0].upper()\n",
        "absPathtoPairsFolder = ''.join(absPathtoPairsFolder)\n",
        "\n",
        "#run CFG script on all subfolders inside pairs folder\n",
        "run([\"python\",absPathtoCFGScript, \"0\", absPathtoPairsFolder , absPathtoPairsFolder])"
      ]
    },
    {
      "cell_type": "code",
      "execution_count": 85,
      "metadata": {},
      "outputs": [],
      "source": [
        "#Prepare graphs for Vulnerable code, precompute them and store them in a list\n",
        "#Vulnerable code (we are storing) is put inside a folder called ourVulnCodes, and the corresponding CFGs is inside a folder called ourVulnCodes_subgraphs/VulnerableCode_subgraphs\n",
        "VulnerableCodeSubgraphsFolder = absPathtoPairsFolder + \"/ourVulnCodes_subgraphs/\"\n",
        "\n",
        "#List containing graphs of each precomputed Vulnerable Code\n",
        "ourGraphs = []\n",
        "\n",
        "for currentpath, folders, jsonfiles in os.walk(VulnerableCodeSubgraphsFolder):\n",
        "\n",
        "    for jsonfile in jsonfiles:\n",
        "        fulljsonFilePath = currentpath+'/'+jsonfile\n",
        "       \n",
        "        with open(fulljsonFilePath) as f:\n",
        "            jsonDict= json.load(f)\n",
        "        \n",
        "        functionName = jsonDict[\"function_name\"].replace('\\\\', '')\n",
        "        newGraph = graph.Graph()\n",
        "        newGraph.readGraphFromJSON(fulljsonFilePath)\n",
        "        ourGraphs.append(newGraph)"
      ]
    },
    {
      "cell_type": "code",
      "execution_count": 86,
      "metadata": {},
      "outputs": [],
      "source": [
        "'''\n",
        "we are trying to find the json file containing the name of the candidate functions (we will not compute CFG of EVERY possible function, rather just the candidate functions),\n",
        "if we found a json of a candidate function, we compute its graph and perform the matching.\n",
        "\n",
        "candidate functions are the functions that passed MOSS\n",
        "'''\n",
        "\n",
        "\n",
        "UserCodeSubgraphsFolder = absPathtoPairsFolder + \"/UserCode_subgraphs/UserCode_subgraphs\"\n",
        "\n",
        "final_Matched_Functions = []\n",
        "\n",
        "allFiles = os.listdir(UserCodeSubgraphsFolder)\n",
        "for jsonfile in allFiles:\n",
        "    fulljsonFilePath = UserCodeSubgraphsFolder+'/'+jsonfile\n",
        "    if(pathlib.Path(jsonfile).suffix != \".json\"):\n",
        "        continue\n",
        "    with open(fulljsonFilePath) as f:\n",
        "        jsonDict = json.load(f)\n",
        "    functionName = jsonDict[\"function_name\"].replace('\\\\', '')\n",
        "\n",
        "    if(functionName in [i[0] for i in Candidate_Functions]):              #check if the function name is inside Candidate Functions\n",
        "        #Construct User Graph and Perform Matching\n",
        "        UserCodeGraph = graph.Graph()\n",
        "        UserCodeGraph.readGraphFromJSON(fulljsonFilePath)\n",
        "        MatchPairs = graph.matchGraphWithListOfGraphs(UserCodeGraph , ourGraphs, otherWayAround=True)\n",
        "        \n",
        "        #MatchPairs is a list of Tuples, each Tuples contains the UserFunction Name and the Function Name stored in our Database\n",
        "        if(MatchPairs):\n",
        "            final_Matched_Functions.append(MatchPairs)"
      ]
    },
    {
      "attachments": {},
      "cell_type": "markdown",
      "metadata": {},
      "source": [
        "# Final Matches الحمد لله"
      ]
    },
    {
      "cell_type": "code",
      "execution_count": 87,
      "metadata": {},
      "outputs": [
        {
          "name": "stdout",
          "output_type": "stream",
          "text": [
            "[[('@\"CWE23_Relative_Path_Traversal__char_connect_socket_fopen_01::bad\"', '@\"CWE23_Relative_Path_Traversal__char_connect_socket_fopen_04::bad\"'), ('@\"CWE23_Relative_Path_Traversal__char_connect_socket_fopen_01::bad\"', '@\"CWE23_Relative_Path_Traversal__char_connect_socket_fopen_04::bad\"'), ('@\"CWE23_Relative_Path_Traversal__char_connect_socket_fopen_01::bad\"', '@\"CWE23_Relative_Path_Traversal__char_connect_socket_fopen_06::bad\"'), ('@\"CWE23_Relative_Path_Traversal__char_connect_socket_fopen_01::bad\"', '@\"CWE23_Relative_Path_Traversal__char_connect_socket_fopen_06::bad\"'), ('@\"CWE23_Relative_Path_Traversal__char_connect_socket_fopen_01::bad\"', '@\"CWE23_Relative_Path_Traversal__char_connect_socket_fopen_09::bad\"'), ('@\"CWE23_Relative_Path_Traversal__char_connect_socket_fopen_01::bad\"', '@\"CWE23_Relative_Path_Traversal__char_connect_socket_fopen_09::bad\"'), ('@\"CWE23_Relative_Path_Traversal__char_connect_socket_fopen_01::bad\"', '@\"CWE23_Relative_Path_Traversal__char_connect_socket_fopen_13::bad\"'), ('@\"CWE23_Relative_Path_Traversal__char_connect_socket_fopen_01::bad\"', '@\"CWE23_Relative_Path_Traversal__char_connect_socket_fopen_13::bad\"'), ('@\"CWE23_Relative_Path_Traversal__char_connect_socket_fopen_01::bad\"', '@\"CWE23_Relative_Path_Traversal__char_environment_fopen_18::bad\"'), ('@\"CWE23_Relative_Path_Traversal__char_connect_socket_fopen_01::bad\"', '@\"CWE23_Relative_Path_Traversal__char_environment_fopen_18::bad\"')]]\n"
          ]
        }
      ],
      "source": [
        "print(final_Matched_Functions)\n",
        "# NOTICE NO FALSE POSITIVES NOR FALSE NEGATIVES <3 <3 <3"
      ]
    },
    {
      "cell_type": "code",
      "execution_count": 88,
      "metadata": {},
      "outputs": [],
      "source": [
        "\n",
        "#Cleanup\n",
        "\n",
        "import os\n",
        "files = os.listdir('./')\n",
        "files = [ fi for fi in files if fi.endswith(\".json\")]\n",
        "for f in files:\n",
        "    os.remove(f)\n"
      ]
    }
  ],
  "metadata": {
    "colab": {
      "provenance": []
    },
    "kernelspec": {
      "display_name": "Python 3",
      "name": "python3"
    },
    "language_info": {
      "codemirror_mode": {
        "name": "ipython",
        "version": 3
      },
      "file_extension": ".py",
      "mimetype": "text/x-python",
      "name": "python",
      "nbconvert_exporter": "python",
      "pygments_lexer": "ipython3",
      "version": "3.10.9"
    }
  },
  "nbformat": 4,
  "nbformat_minor": 0
}
