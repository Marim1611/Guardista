{
  "cells": [
    {
      "attachments": {},
      "cell_type": "markdown",
      "metadata": {},
      "source": [
        "### Extract functions from LL files"
      ]
    },
    {
      "cell_type": "code",
      "execution_count": 1,
      "metadata": {},
      "outputs": [],
      "source": [
        "import CodePreprocessing as preprocessing\n",
        "import json\n",
        "import re"
      ]
    },
    {
      "cell_type": "code",
      "execution_count": 2,
      "metadata": {},
      "outputs": [],
      "source": [
        "\n",
        "# ----------------- user functions  --------------------\n",
        "preprocessing.functions_preprocessing( llvm_file='pairs/UserCode/UserCode.ll', json_file='UserCode' )\n",
        "with open( 'UserCode.json', 'r' ) as f:\n",
        "    user_code = json.load( f ) \n",
        "\n",
        "# ----------------- Vulnerable function ------------------\n",
        "preprocessing.functions_preprocessing(llvm_file='pairs/ourVulnCodes/VulnerableCode.ll', json_file='VulnerableCode' )\n",
        "with open( 'VulnerableCode.json', 'r' ) as f:\n",
        "    vulnerable_code = json.load( f )\n",
        "\n",
        "vulnerable_function=[]\n",
        "for key in vulnerable_code:\n",
        "    vulnerable_function.append(vulnerable_code[key])\n"
      ]
    },
    {
      "attachments": {},
      "cell_type": "markdown",
      "metadata": {},
      "source": [
        "### Matching"
      ]
    },
    {
      "cell_type": "code",
      "execution_count": 3,
      "metadata": {
        "colab": {
          "base_uri": "https://localhost:8080/"
        },
        "id": "xAUxk6Oql4zr",
        "outputId": "075923bf-4d53-4a48-f894-cfae71e0e118"
      },
      "outputs": [],
      "source": [
        "import matchers as matcher\n",
        "import LLNormalizer as normalizer\n",
        "import Winnowing"
      ]
    },
    {
      "cell_type": "code",
      "execution_count": 4,
      "metadata": {},
      "outputs": [],
      "source": [
        "def check_function_vulnerable(threshold,score1,score2,score3):\n",
        "    return score1 > threshold and score2 > threshold and score3 > threshold"
      ]
    },
    {
      "cell_type": "code",
      "execution_count": 5,
      "metadata": {},
      "outputs": [],
      "source": [
        "#applying KNN but with similarity measures, we take the top 3 scores in all similarity measures, if those top 3 passed the threshold, we do the ultimate test, MOSS.\n",
        "#K here equals 3\n",
        "\n",
        "threshold=0.7\n",
        "k=3\n",
        "\n",
        "#this is a dictionary of key: vulnerable function (which is in our database)        value: code_scores for this vulnerable function\n",
        "Vulnerable_Matches = dict()\n",
        "\n",
        "for k,v in vulnerable_code.items():\n",
        "    vuln_func = v\n",
        "    vuln_head=k\n",
        "    code_scores=dict()\n",
        "\n",
        "\n",
        "    for key in user_code:\n",
        "        fn=user_code[key] \n",
        "        #fn=normalizer.NormalizeLLVM(fn)\n",
        "\n",
        "        jaro_winkler=matcher.jaro_winkler_similarity(fn, vuln_func)\n",
        "        levenshtein=matcher.levenshtein_similarity(fn, vuln_func)\n",
        "        ratcliff_obershelp=matcher.ratcliff_obershelp_similarity(fn, vuln_func)\n",
        "        trigram=matcher.trigram_similarity(fn, vuln_func)\n",
        "        sorensen_dice=matcher.sorensen_dice_similarity(fn, vuln_func)\n",
        "        jaccard_distance=matcher.jaccard_distance(fn, vuln_func)\n",
        "\n",
        "        scores=[jaro_winkler,levenshtein,ratcliff_obershelp,trigram,sorensen_dice,jaccard_distance]\n",
        "        scores.sort(reverse=True) \n",
        "        code_scores[key]=scores\n",
        "    \n",
        "    Vulnerable_Matches[vuln_head] = code_scores\n",
        "\n",
        "with open('code_scores.json', 'w') as f:\n",
        "    f.write(json.dumps(Vulnerable_Matches, indent=6))"
      ]
    },
    {
      "attachments": {},
      "cell_type": "markdown",
      "metadata": {},
      "source": [
        "# MOSS"
      ]
    },
    {
      "cell_type": "code",
      "execution_count": 6,
      "metadata": {},
      "outputs": [
        {
          "name": "stdout",
          "output_type": "stream",
          "text": [
            "\n",
            "\n",
            "Vulnerable function found: define void @\"CWE23_Relative_Path_Traversal__char_environment_fopen_41::bad\"() local_unnamed_addr {\n",
            "\n",
            "MOSS Caught this <3 !!!\n",
            "Accuracy_Metric 1 = 0.9059233449477352  ||  Accuracy_Metric 2 = 0.5241935483870968\n",
            "hits: 4420 , misses: 459, misses2: 4012\n",
            "-----------------------\n",
            "\n",
            "\n",
            "Vulnerable function found: define void @\"CWE23_Relative_Path_Traversal__char_environment_fopen_41::goodG2B\"() local_unnamed_addr {\n",
            "\n",
            "MOSS Caught this <3 !!!\n",
            "Accuracy_Metric 1 = 0.8165194164783234  ||  Accuracy_Metric 2 = 0.5601917113053284\n",
            "hits: 3974 , misses: 893, misses2: 3120\n",
            "-----------------------\n"
          ]
        }
      ],
      "source": [
        "Candidate_Functions = []\n",
        "for k,v in vulnerable_code.items():\n",
        "    vuln_func = v\n",
        "    vuln_head = k\n",
        "\n",
        "    #Normalizing the vulnerable function with us (not user code)\n",
        "    normalizedvuln = normalizer.NormalizeLLVM(vuln_func)\n",
        "\n",
        "    #for each function passing the threshold, do MOSS.\n",
        "    for key in Vulnerable_Matches[vuln_head]:\n",
        "        code_scores = Vulnerable_Matches[vuln_head]\n",
        "        if check_function_vulnerable(threshold,code_scores[key][0],code_scores[key][1],code_scores[key][2]):\n",
        "            fn = user_code[key]\n",
        "\n",
        "            #sometimes normalizing behaves good, sometimes bad.\n",
        "            normalizedfn = normalizer.NormalizeLLVM(fn)\n",
        "            \n",
        "            #MOSS Metrics (defined in Winnowing.py), Parameters passed: k=20, ws = 10, P=10\n",
        "            MOSS_Acc_metric1, MOSS_Acc_metric2, hits, misses1, misses2 = Winnowing.diff(normalizedfn, normalizedvuln, K= 20, WindowSize= 10, P= 10)\n",
        "            \n",
        "            print(\"\\n\\nVulnerable function found:\",key)\n",
        "            Candidate_Functions.append(re.findall('(@.*)\\(', key)[0])\n",
        "\n",
        "            #MOSS Thresholds, 0.7 for Metric1, 0.7 for Metric2, those thresholds are highly dependent on the vulnerability type unfortunately.\n",
        "            if(MOSS_Acc_metric1>0.7 or MOSS_Acc_metric2>0.7):\n",
        "                print(f\"MOSS Caught this <3 !!!\")\n",
        "                print(f\"Accuracy_Metric 1 = {MOSS_Acc_metric1}  ||  Accuracy_Metric 2 = {MOSS_Acc_metric2}\\nhits: {hits} , misses: {misses1}, misses2: {misses2}\")\n",
        "            print('-----------------------')"
      ]
    },
    {
      "attachments": {},
      "cell_type": "markdown",
      "metadata": {},
      "source": [
        "# Graph matching ان شاء الله"
      ]
    },
    {
      "cell_type": "code",
      "execution_count": 8,
      "metadata": {},
      "outputs": [
        {
          "data": {
            "text/plain": [
              "CompletedProcess(args=['python', 'D:/ClassWork/Guardista/IrToCFGs/generate_subgraphs.py', '0', 'D:/ClassWork/Guardista/Localizer/Common/pairs', 'D:/ClassWork/Guardista/Localizer/Common/pairs'], returncode=0)"
            ]
          },
          "execution_count": 8,
          "metadata": {},
          "output_type": "execute_result"
        }
      ],
      "source": [
        "import graph\n",
        "import os\n",
        "import re\n",
        "from subprocess import run\n",
        "import pathlib\n",
        "import json\n",
        "\n",
        "#Path to Marim's script generate_subgraphs.py\n",
        "absPathtoCFGScript = str(os.path.abspath(\"../../IrToCFGs/generate_subgraphs.py\")).replace(\"\\\\\", \"/\")\n",
        "absPathtoCFGScript = list(absPathtoCFGScript)\n",
        "absPathtoCFGScript[0] = absPathtoCFGScript[0].upper()\n",
        "absPathtoCFGScript = ''.join(absPathtoCFGScript)\n",
        "\n",
        "\n",
        "#Path to the pairs folder in this directory\n",
        "absPathtoPairsFolder = (str(os.getcwd())+\"/pairs\").replace(\"\\\\\", \"/\")\n",
        "absPathtoPairsFolder = list(absPathtoPairsFolder)\n",
        "absPathtoPairsFolder[0] = absPathtoPairsFolder[0].upper()\n",
        "absPathtoPairsFolder = ''.join(absPathtoPairsFolder)\n",
        "\n",
        "#run CFG script on all subfolders inside pairs folder\n",
        "run([\"python\",absPathtoCFGScript, \"0\", absPathtoPairsFolder , absPathtoPairsFolder])\n",
        "\n"
      ]
    },
    {
      "cell_type": "code",
      "execution_count": 10,
      "metadata": {},
      "outputs": [],
      "source": [
        "#Prepare graphs for Vulnerable code, precompute them and store them in a list\n",
        "#Vulnerable code (we are storing) is put inside a folder called ourVulnCodes, and the corresponding CFGs is inside a folder called ourVulnCodes_subgraphs/VulnerableCode_subgraphs\n",
        "VulnerableCodeSubgraphsFolder = absPathtoPairsFolder + \"/ourVulnCodes_subgraphs/VulnerableCode_subgraphs\"\n",
        "\n",
        "\n",
        "allFiles = os.listdir(VulnerableCodeSubgraphsFolder)\n",
        "\n",
        "#List containing graphs of each precomputed Vulnerable Code\n",
        "ourGraphs = []\n",
        "for jsonfile in allFiles:\n",
        "    fulljsonFilePath = VulnerableCodeSubgraphsFolder+'/'+jsonfile\n",
        "    if(pathlib.Path(jsonfile).suffix != \".json\"):\n",
        "        continue\n",
        "    with open(fulljsonFilePath) as f:\n",
        "        jsonDict= json.load(f)\n",
        "    \n",
        "    \n",
        "    functionName = jsonDict[\"function_name\"].replace('\\\\', '')\n",
        "    newGraph = graph.Graph()\n",
        "    newGraph.readGraphFromJSON(fulljsonFilePath)\n",
        "    ourGraphs.append(newGraph)\n",
        "    "
      ]
    },
    {
      "cell_type": "code",
      "execution_count": 11,
      "metadata": {},
      "outputs": [],
      "source": [
        "'''\n",
        "we are trying to find the json file containing the name of the candidate functions (we will not compute CFG of EVERY possible function, rather just the candidate functions),\n",
        "if we found a json of a candidate function, we compute its graph and perform the matching.\n",
        "\n",
        "candidate functions are the functions that passed MOSS\n",
        "'''\n",
        "\n",
        "\n",
        "UserCodeSubgraphsFolder = absPathtoPairsFolder + \"/UserCode_subgraphs/UserCode_subgraphs\"\n",
        "\n",
        "final_Matched_Functions = []\n",
        "\n",
        "allFiles = os.listdir(UserCodeSubgraphsFolder)\n",
        "for jsonfile in allFiles:\n",
        "    fulljsonFilePath = UserCodeSubgraphsFolder+'/'+jsonfile\n",
        "    if(pathlib.Path(jsonfile).suffix != \".json\"):\n",
        "        continue\n",
        "    with open(fulljsonFilePath) as f:\n",
        "        jsonDict = json.load(f)\n",
        "    functionName = jsonDict[\"function_name\"].replace('\\\\', '')\n",
        "\n",
        "    if(functionName in Candidate_Functions):\n",
        "        #Construct User Graph and Perform Matching\n",
        "        UserCodeGraph = graph.Graph()\n",
        "        UserCodeGraph.readGraphFromJSON(fulljsonFilePath)\n",
        "        MatchPairs = graph.matchGraphWithListOfGraphs(UserCodeGraph , ourGraphs, otherWayAround=True)\n",
        "        \n",
        "        #MatchPairs is a list of Tuples, each Tuples contains the UserFunction Name and the Function Name stored in our Database\n",
        "        if(MatchPairs):\n",
        "            final_Matched_Functions.append(MatchPairs)"
      ]
    },
    {
      "attachments": {},
      "cell_type": "markdown",
      "metadata": {},
      "source": [
        "# Final Matches الحمد لله"
      ]
    },
    {
      "cell_type": "code",
      "execution_count": 12,
      "metadata": {},
      "outputs": [
        {
          "name": "stdout",
          "output_type": "stream",
          "text": [
            "[[('@\"CWE23_Relative_Path_Traversal__char_environment_fopen_41::bad\"', '@\"CWE23_Relative_Path_Traversal__char_environment_fopen_18::bad\"'), ('@\"CWE23_Relative_Path_Traversal__char_environment_fopen_41::bad\"', '@\"CWE23_Relative_Path_Traversal__char_environment_fopen_18::bad\"')]]\n"
          ]
        }
      ],
      "source": [
        "print(final_Matched_Functions)\n",
        "# NOTICE NO FALSE POSITIVES NOR FALSE NEGATIVES <3 <3 <3"
      ]
    },
    {
      "cell_type": "code",
      "execution_count": 13,
      "metadata": {},
      "outputs": [
        {
          "ename": "PermissionError",
          "evalue": "[WinError 5] Access is denied: 'pairs'",
          "output_type": "error",
          "traceback": [
            "\u001b[1;31m---------------------------------------------------------------------------\u001b[0m",
            "\u001b[1;31mPermissionError\u001b[0m                           Traceback (most recent call last)",
            "Cell \u001b[1;32mIn[13], line 7\u001b[0m\n\u001b[0;32m      5\u001b[0m files \u001b[39m=\u001b[39m [ fi \u001b[39mfor\u001b[39;00m fi \u001b[39min\u001b[39;00m files \u001b[39mif\u001b[39;00m (fi\u001b[39m.\u001b[39mendswith(\u001b[39m\"\u001b[39m\u001b[39m.json\u001b[39m\u001b[39m\"\u001b[39m) \u001b[39mor\u001b[39;00m fi\u001b[39m.\u001b[39mendswith(\u001b[39m\"\u001b[39m\u001b[39m\"\u001b[39m)) ]\n\u001b[0;32m      6\u001b[0m \u001b[39mfor\u001b[39;00m f \u001b[39min\u001b[39;00m files:\n\u001b[1;32m----> 7\u001b[0m     os\u001b[39m.\u001b[39mremove(f)\n",
            "\u001b[1;31mPermissionError\u001b[0m: [WinError 5] Access is denied: 'pairs'"
          ]
        }
      ],
      "source": [
        "\n",
        "#Cleanup\n",
        "\n",
        "import os\n",
        "files = os.listdir('./')\n",
        "files = [ fi for fi in files if fi.endswith(\".json\")]\n",
        "for f in files:\n",
        "    os.remove(f)\n"
      ]
    },
    {
      "cell_type": "code",
      "execution_count": null,
      "metadata": {},
      "outputs": [],
      "source": []
    }
  ],
  "metadata": {
    "colab": {
      "provenance": []
    },
    "kernelspec": {
      "display_name": "Python 3",
      "name": "python3"
    },
    "language_info": {
      "codemirror_mode": {
        "name": "ipython",
        "version": 3
      },
      "file_extension": ".py",
      "mimetype": "text/x-python",
      "name": "python",
      "nbconvert_exporter": "python",
      "pygments_lexer": "ipython3",
      "version": "3.11.3"
    }
  },
  "nbformat": 4,
  "nbformat_minor": 0
}
