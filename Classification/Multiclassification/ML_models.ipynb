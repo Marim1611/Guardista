{
 "cells": [
  {
   "cell_type": "code",
   "execution_count": 1,
   "metadata": {},
   "outputs": [],
   "source": [
    "import sys; sys.path.append('../')\n",
    "from DataPreparing.data_preparing import read_data\n",
    "from Evaluation.evaluate import *\n",
    "from sklearn import svm\n",
    "from sklearn.ensemble import AdaBoostClassifier, RandomForestClassifier\n",
    "from sklearn.linear_model import LogisticRegression\n",
    "from imblearn.over_sampling import SMOTE,SMOTENC,SMOTEN,BorderlineSMOTE\n",
    "from imblearn.under_sampling import NearMiss,RandomUnderSampler\n",
    "from sklearn.model_selection import train_test_split\n"
   ]
  },
  {
   "attachments": {},
   "cell_type": "markdown",
   "metadata": {},
   "source": [
    "# Read Data"
   ]
  },
  {
   "cell_type": "code",
   "execution_count": 2,
   "metadata": {},
   "outputs": [],
   "source": [
    "X_train, X_val, y_train, y_val =read_data(\"../DataFiles/embeddings_121_191_401_457.csv\")"
   ]
  },
  {
   "attachments": {},
   "cell_type": "markdown",
   "metadata": {},
   "source": [
    "# SVM"
   ]
  },
  {
   "cell_type": "code",
   "execution_count": 3,
   "metadata": {},
   "outputs": [
    {
     "name": "stdout",
     "output_type": "stream",
     "text": [
      "Training Accurracy: 90.23043229860978%\n",
      "              precision    recall  f1-score   support\n",
      "\n",
      "      CWE121       1.00      1.00      1.00      1138\n",
      "      CWE191       0.82      0.92      0.86       838\n",
      "      CWE401       0.77      0.92      0.84       453\n",
      "      CWE457       1.00      0.04      0.08       197\n",
      "\n",
      "    accuracy                           0.89      2626\n",
      "   macro avg       0.90      0.72      0.70      2626\n",
      "weighted avg       0.90      0.89      0.86      2626\n",
      "\n",
      "CPU times: total: 6.92 s\n",
      "Wall time: 7.38 s\n"
     ]
    }
   ],
   "source": [
    "%%time\n",
    "clf = svm.SVC( kernel='rbf')\n",
    "clf.fit(X_train, y_train)\n",
    "evaluate(clf, X_val,y_val , clf.predict(X_train), y_train)"
   ]
  },
  {
   "attachments": {},
   "cell_type": "markdown",
   "metadata": {},
   "source": [
    "# Random Forest "
   ]
  },
  {
   "cell_type": "code",
   "execution_count": 4,
   "metadata": {},
   "outputs": [
    {
     "name": "stdout",
     "output_type": "stream",
     "text": [
      "Training Accurracy: 100.0%\n",
      "              precision    recall  f1-score   support\n",
      "\n",
      "      CWE121       1.00      1.00      1.00      1138\n",
      "      CWE191       1.00      0.99      1.00       838\n",
      "      CWE401       0.99      0.99      0.99       453\n",
      "      CWE457       0.97      0.98      0.97       197\n",
      "\n",
      "    accuracy                           1.00      2626\n",
      "   macro avg       0.99      0.99      0.99      2626\n",
      "weighted avg       1.00      1.00      1.00      2626\n",
      "\n",
      "CPU times: total: 5.36 s\n",
      "Wall time: 5.76 s\n"
     ]
    }
   ],
   "source": [
    "%%time\n",
    "clf = RandomForestClassifier(n_estimators=100)\n",
    "clf.fit(X_train, y_train)\n",
    "evaluate(clf, X_val,y_val, clf.predict(X_train), y_train)\n"
   ]
  },
  {
   "attachments": {},
   "cell_type": "markdown",
   "metadata": {},
   "source": [
    "# Adaboost "
   ]
  },
  {
   "cell_type": "code",
   "execution_count": 5,
   "metadata": {},
   "outputs": [
    {
     "name": "stdout",
     "output_type": "stream",
     "text": [
      "Training Accurracy: 80.76556846314988%\n",
      "              precision    recall  f1-score   support\n",
      "\n",
      "      CWE121       1.00      1.00      1.00      1138\n",
      "      CWE191       0.62      0.99      0.76       838\n",
      "      CWE401       0.94      0.16      0.27       453\n",
      "      CWE457       0.69      0.24      0.35       197\n",
      "\n",
      "    accuracy                           0.79      2626\n",
      "   macro avg       0.81      0.60      0.60      2626\n",
      "weighted avg       0.84      0.79      0.75      2626\n",
      "\n",
      "CPU times: total: 20.4 s\n",
      "Wall time: 21.5 s\n"
     ]
    }
   ],
   "source": [
    "%%time\n",
    "clf = AdaBoostClassifier(n_estimators=50)\n",
    "clf.fit(X_train, y_train)\n",
    "evaluate(clf, X_val,y_val, clf.predict(X_train), y_train)\n"
   ]
  },
  {
   "cell_type": "markdown",
   "metadata": {},
   "source": [
    "#  Logistic Regression"
   ]
  },
  {
   "cell_type": "code",
   "execution_count": 6,
   "metadata": {},
   "outputs": [
    {
     "name": "stderr",
     "output_type": "stream",
     "text": [
      "C:\\Users\\dell\\AppData\\Roaming\\Python\\Python38\\site-packages\\sklearn\\linear_model\\_logistic.py:1173: FutureWarning: `penalty='none'`has been deprecated in 1.2 and will be removed in 1.4. To keep the past behaviour, set `penalty=None`.\n",
      "  warnings.warn(\n"
     ]
    },
    {
     "name": "stdout",
     "output_type": "stream",
     "text": [
      "Training Accurracy: 91.71586364502001%\n",
      "              precision    recall  f1-score   support\n",
      "\n",
      "      CWE121       1.00      1.00      1.00      1138\n",
      "      CWE191       0.84      0.93      0.88       838\n",
      "      CWE401       0.81      0.84      0.82       453\n",
      "      CWE457       0.81      0.37      0.51       197\n",
      "\n",
      "    accuracy                           0.90      2626\n",
      "   macro avg       0.86      0.78      0.80      2626\n",
      "weighted avg       0.90      0.90      0.89      2626\n",
      "\n"
     ]
    },
    {
     "name": "stderr",
     "output_type": "stream",
     "text": [
      "C:\\Users\\dell\\AppData\\Roaming\\Python\\Python38\\site-packages\\sklearn\\linear_model\\_logistic.py:458: ConvergenceWarning: lbfgs failed to converge (status=1):\n",
      "STOP: TOTAL NO. of ITERATIONS REACHED LIMIT.\n",
      "\n",
      "Increase the number of iterations (max_iter) or scale the data as shown in:\n",
      "    https://scikit-learn.org/stable/modules/preprocessing.html\n",
      "Please also refer to the documentation for alternative solver options:\n",
      "    https://scikit-learn.org/stable/modules/linear_model.html#logistic-regression\n",
      "  n_iter_i = _check_optimize_result(\n"
     ]
    }
   ],
   "source": [
    "clf=LogisticRegression(random_state=0, penalty=\"none\")\n",
    "clf.fit(X_train, y_train)\n",
    "evaluate(clf, X_val,y_val, clf.predict(X_train), y_train)\n"
   ]
  }
 ],
 "metadata": {
  "kernelspec": {
   "display_name": "Python 3",
   "language": "python",
   "name": "python3"
  },
  "language_info": {
   "codemirror_mode": {
    "name": "ipython",
    "version": 3
   },
   "file_extension": ".py",
   "mimetype": "text/x-python",
   "name": "python",
   "nbconvert_exporter": "python",
   "pygments_lexer": "ipython3",
   "version": "3.8.5"
  },
  "orig_nbformat": 4
 },
 "nbformat": 4,
 "nbformat_minor": 2
}
