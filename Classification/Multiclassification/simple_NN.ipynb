{
 "cells": [
  {
   "cell_type": "code",
   "execution_count": 41,
   "metadata": {},
   "outputs": [],
   "source": [
    "import sys; sys.path.append('../')\n",
    "from DataPreparing.data_preparing import read_data\n",
    "from Evaluation.evaluate import *\n",
    "import torch\n",
    "import torch.nn as nn\n",
    "import torch.optim as optim\n",
    "from torch.utils.data import Dataset, DataLoader\n"
   ]
  },
  {
   "cell_type": "code",
   "execution_count": 42,
   "metadata": {},
   "outputs": [],
   "source": [
    "X_train, X_val, y_train, y_val =read_data(\"../DataFiles/embeddings_121_191_401_457.csv\")"
   ]
  },
  {
   "cell_type": "code",
   "execution_count": 43,
   "metadata": {},
   "outputs": [],
   "source": [
    "# concatenate x_train and x_val\n",
    "X_train = np.concatenate((X_train, X_val), axis=0)\n",
    "y_train = np.concatenate((y_train, y_val), axis=0)\n"
   ]
  },
  {
   "cell_type": "code",
   "execution_count": 44,
   "metadata": {},
   "outputs": [],
   "source": [
    "# convert float to float64 \n",
    "X_train = X_train.astype('float64')\n",
    "X_val = X_val.astype('float64')\n"
   ]
  },
  {
   "cell_type": "code",
   "execution_count": 45,
   "metadata": {},
   "outputs": [
    {
     "name": "stdout",
     "output_type": "stream",
     "text": [
      "{'CWE457', 'CWE121', 'CWE191', 'CWE401'}\n",
      "{'CWE457', 'CWE121', 'CWE191', 'CWE401'}\n"
     ]
    }
   ],
   "source": [
    "print(set   (y_train))\n",
    "print(set   (y_val))"
   ]
  },
  {
   "cell_type": "code",
   "execution_count": 46,
   "metadata": {},
   "outputs": [],
   "source": [
    "# encode class values as integers safe=0, CWE23=1\n",
    "for i in range(len(y_train)):\n",
    "    # if y_train[i]=='safe':\n",
    "    #     y_train[i]=0\n",
    "    if y_train[i]=='CWE121':\n",
    "        y_train[i]=0\n",
    "    elif y_train[i]=='CWE191':\n",
    "        y_train[i]=1\n",
    "    elif y_train[i]=='CWE401':\n",
    "        y_train[i]=2\n",
    "    elif y_train[i]=='CWE457':\n",
    "        y_train[i]=3\n",
    "\n",
    "for i in range(len(y_val)):\n",
    "    # if y_val[i]=='safe':\n",
    "    #     y_val[i]=0\n",
    "    if y_val[i]=='CWE121':\n",
    "        y_val[i]=0\n",
    "    elif y_val[i]=='CWE191':\n",
    "        y_val[i]=1\n",
    "    elif y_val[i]=='CWE401':\n",
    "        y_val[i]=2\n",
    "    elif y_val[i]=='CWE457':\n",
    "        y_val[i]=43"
   ]
  },
  {
   "cell_type": "code",
   "execution_count": 47,
   "metadata": {},
   "outputs": [
    {
     "name": "stdout",
     "output_type": "stream",
     "text": [
      "{0, 1, 2, 3}\n",
      "{0, 1, 2, 43}\n"
     ]
    }
   ],
   "source": [
    "print(set   (y_train))\n",
    "print(set   (y_val))"
   ]
  },
  {
   "cell_type": "code",
   "execution_count": 48,
   "metadata": {},
   "outputs": [],
   "source": [
    "#convert y_train and y_val to int64\n",
    "y_train = y_train.astype('int64')\n",
    "y_val = y_val.astype('int64')"
   ]
  },
  {
   "cell_type": "code",
   "execution_count": 49,
   "metadata": {},
   "outputs": [
    {
     "name": "stdout",
     "output_type": "stream",
     "text": [
      "X_train shape:  (13128, 64)\n",
      "y_train shape:  (13128,)\n",
      "X_val shape:  (2626, 64)\n",
      "y_val shape:  (2626,)\n"
     ]
    }
   ],
   "source": [
    "#print shape and type of data\n",
    "print(\"X_train shape: \", X_train.shape)\n",
    "print(\"y_train shape: \", y_train.shape)\n",
    "print(\"X_val shape: \", X_val.shape)\n",
    "print(\"y_val shape: \", y_val.shape)\n"
   ]
  },
  {
   "cell_type": "code",
   "execution_count": 50,
   "metadata": {},
   "outputs": [
    {
     "name": "stdout",
     "output_type": "stream",
     "text": [
      "X_train_tensor shape:  torch.Size([13128, 64])\n"
     ]
    }
   ],
   "source": [
    "X_train_tensor = torch.from_numpy(X_train)\n",
    "y_train_tensor = torch.from_numpy(y_train)\n",
    "X_val_tensor = torch.from_numpy(X_val)\n",
    "y_val_tensor = torch.from_numpy(y_val)\n",
    "print(\"X_train_tensor shape: \", X_train_tensor.shape)"
   ]
  },
  {
   "cell_type": "code",
   "execution_count": 51,
   "metadata": {},
   "outputs": [
    {
     "name": "stdout",
     "output_type": "stream",
     "text": [
      "torch.Size([13128, 64])\n"
     ]
    }
   ],
   "source": [
    "print(X_train_tensor.shape)"
   ]
  },
  {
   "cell_type": "code",
   "execution_count": 52,
   "metadata": {},
   "outputs": [
    {
     "name": "stderr",
     "output_type": "stream",
     "text": [
      "C:\\Users\\dell\\AppData\\Local\\Temp\\ipykernel_10116\\3450147574.py:20: UserWarning: To copy construct from a tensor, it is recommended to use sourceTensor.clone().detach() or sourceTensor.clone().detach().requires_grad_(True), rather than torch.tensor(sourceTensor).\n",
      "  self.data = torch.tensor(data, dtype=torch.float32)\n",
      "C:\\Users\\dell\\AppData\\Local\\Temp\\ipykernel_10116\\3450147574.py:21: UserWarning: To copy construct from a tensor, it is recommended to use sourceTensor.clone().detach() or sourceTensor.clone().detach().requires_grad_(True), rather than torch.tensor(sourceTensor).\n",
      "  self.labels = torch.tensor(labels, dtype=torch.long)\n"
     ]
    },
    {
     "name": "stdout",
     "output_type": "stream",
     "text": [
      "Epoch [1/10], Loss: 1.3804, Accuracy: 51.91%\n",
      "Epoch [2/10], Loss: 1.3751, Accuracy: 52.11%\n",
      "Epoch [3/10], Loss: 1.3696, Accuracy: 46.10%\n",
      "Epoch [4/10], Loss: 1.3638, Accuracy: 45.25%\n",
      "Epoch [5/10], Loss: 1.3576, Accuracy: 45.25%\n",
      "Epoch [6/10], Loss: 1.3510, Accuracy: 45.25%\n",
      "Epoch [7/10], Loss: 1.3438, Accuracy: 45.25%\n",
      "Epoch [8/10], Loss: 1.3359, Accuracy: 45.25%\n",
      "Epoch [9/10], Loss: 1.3272, Accuracy: 45.25%\n",
      "Epoch [10/10], Loss: 1.3178, Accuracy: 45.25%\n",
      "Epoch [11/10], Loss: 1.3074, Accuracy: 45.25%\n",
      "Epoch [12/10], Loss: 1.2961, Accuracy: 45.25%\n",
      "Epoch [13/10], Loss: 1.2839, Accuracy: 45.25%\n",
      "Epoch [14/10], Loss: 1.2709, Accuracy: 45.25%\n",
      "Epoch [15/10], Loss: 1.2573, Accuracy: 45.25%\n",
      "Epoch [16/10], Loss: 1.2434, Accuracy: 45.25%\n",
      "Epoch [17/10], Loss: 1.2296, Accuracy: 45.25%\n",
      "Epoch [18/10], Loss: 1.2161, Accuracy: 45.25%\n",
      "Epoch [19/10], Loss: 1.2033, Accuracy: 45.25%\n",
      "Epoch [20/10], Loss: 1.1914, Accuracy: 45.25%\n"
     ]
    }
   ],
   "source": [
    "\n",
    "# Define the neural network architecture\n",
    "class Net(nn.Module):\n",
    "    def __init__(self):\n",
    "        super(Net, self).__init__()\n",
    "        self.fc1 = nn.Linear(64, 32)\n",
    "        self.relu = nn.ReLU()\n",
    "        self.fc2 = nn.Linear(32, 4)\n",
    "        self.softmax = nn.Softmax(dim=1)\n",
    "\n",
    "    def forward(self, x):\n",
    "        x = self.fc1(x)\n",
    "        x = self.relu(x)\n",
    "        x = self.fc2(x)\n",
    "        x = self.softmax(x)\n",
    "        return x\n",
    "\n",
    "# Define the dataset\n",
    "class MyDataset(Dataset):\n",
    "    def __init__(self, data, labels):\n",
    "        self.data = torch.tensor(data, dtype=torch.float32)\n",
    "        self.labels = torch.tensor(labels, dtype=torch.long)\n",
    "\n",
    "    def __len__(self):\n",
    "        return len(self.data)\n",
    "\n",
    "    def __getitem__(self, idx):\n",
    "        return self.data[idx], self.labels[idx]\n",
    "\n",
    "# Prepare the data\n",
    "data =X_train_tensor\n",
    "labels =y_train_tensor\n",
    "dataset = MyDataset(data, labels)\n",
    "dataloader = DataLoader(dataset, batch_size=32, shuffle=True)\n",
    "\n",
    "# Initialize the model, loss function, and optimizer\n",
    "model = Net()\n",
    "criterion = nn.CrossEntropyLoss()\n",
    "optimizer = optim.SGD(model.parameters(), lr=0.001)\n",
    "\n",
    "# Train the model\n",
    "for epoch in range(20):\n",
    "    running_loss = 0.0\n",
    "    correct = 0\n",
    "    total = 0\n",
    "    for inputs, labels in dataloader:\n",
    "        optimizer.zero_grad()\n",
    "        outputs = model(inputs)\n",
    "        loss = criterion(outputs, labels)\n",
    "        loss.backward()\n",
    "        optimizer.step()\n",
    "        running_loss += loss.item() * inputs.size(0)\n",
    "        _, predicted = torch.max(outputs.data, 1)\n",
    "        total += labels.size(0)\n",
    "        correct += (predicted == labels).sum().item()\n",
    "    epoch_loss = running_loss / len(dataset)\n",
    "    epoch_acc = 100 * correct / total\n",
    "    \n",
    "    print('Epoch [{}/{}], Loss: {:.4f}, Accuracy: {:.2f}%'.format(epoch+1, 10, epoch_loss, epoch_acc))"
   ]
  }
 ],
 "metadata": {
  "kernelspec": {
   "display_name": "Python 3",
   "language": "python",
   "name": "python3"
  },
  "language_info": {
   "codemirror_mode": {
    "name": "ipython",
    "version": 3
   },
   "file_extension": ".py",
   "mimetype": "text/x-python",
   "name": "python",
   "nbconvert_exporter": "python",
   "pygments_lexer": "ipython3",
   "version": "3.8.5"
  },
  "orig_nbformat": 4
 },
 "nbformat": 4,
 "nbformat_minor": 2
}
