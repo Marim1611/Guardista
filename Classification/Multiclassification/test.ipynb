{
 "cells": [
  {
   "cell_type": "code",
   "execution_count": 17,
   "metadata": {},
   "outputs": [],
   "source": [
    "import sys; sys.path.append('../')\n",
    "from DataPreparing.data_preparing import *\n",
    "from Evaluation.evaluate import *\n",
    "from sklearn import svm\n",
    "from sklearn.ensemble import AdaBoostClassifier, RandomForestClassifier\n",
    "from sklearn.linear_model import LogisticRegression\n",
    "from imblearn.under_sampling import NearMiss,RandomUnderSampler\n",
    "from sklearn.model_selection import train_test_split\n",
    "import numpy as np\n",
    "import pandas as pd\n"
   ]
  },
  {
   "cell_type": "code",
   "execution_count": 6,
   "metadata": {},
   "outputs": [],
   "source": [
    "# #read csv file without header and index into dataframe\n",
    "# df1=  pd.read_csv('../DataFiles/embeddings_121.csv', header=None, index_col=None)\n",
    "# df2 =  pd.read_csv('../DataFiles/embeddings_191.csv', header=None, index_col=None)\n",
    "# df3 = pd.read_csv('../DataFiles/embeddings_401.csv', header=None, index_col=None)\n",
    "# df4 =  pd.read_csv('../DataFiles/embeddings_457.csv', header=None, index_col=None)\n"
   ]
  },
  {
   "cell_type": "code",
   "execution_count": 7,
   "metadata": {},
   "outputs": [],
   "source": [
    "# combine all dataframes into one\n",
    "# df = pd.concat([df1, df2, df3, df4], ignore_index=True)\n"
   ]
  },
  {
   "cell_type": "code",
   "execution_count": 10,
   "metadata": {},
   "outputs": [],
   "source": [
    "#drop first column\n",
    "# df = df.drop(df.columns[0], axis=1)"
   ]
  },
  {
   "cell_type": "code",
   "execution_count": 19,
   "metadata": {},
   "outputs": [],
   "source": [
    "#write dataframe into csv file\n",
    "# df.to_csv('../DataFiles/embeddings_121_191_401_457.csv', index=False, header=False)"
   ]
  },
  {
   "cell_type": "code",
   "execution_count": 13,
   "metadata": {},
   "outputs": [],
   "source": [
    "df_numpy = df.to_numpy()\n",
    "features = df_numpy[:, :-1]\n",
    "labels = df_numpy[:, -1]\n",
    "X_train, X_val, y_train, y_val = train_test_split(features, labels, test_size=0.2, random_state=0)"
   ]
  },
  {
   "cell_type": "code",
   "execution_count": 15,
   "metadata": {},
   "outputs": [
    {
     "name": "stdout",
     "output_type": "stream",
     "text": [
      "Training Accurracy: 89.83050847457628%\n",
      "              precision    recall  f1-score   support\n",
      "\n",
      "      CWE121       1.00      1.00      1.00      1138\n",
      "      CWE191       0.81      0.92      0.86       838\n",
      "      CWE401       0.78      0.93      0.85       453\n",
      "      CWE457       0.00      0.00      0.00       197\n",
      "\n",
      "    accuracy                           0.89      2626\n",
      "   macro avg       0.65      0.71      0.68      2626\n",
      "weighted avg       0.83      0.89      0.85      2626\n",
      "\n",
      "CPU times: total: 3.02 s\n",
      "Wall time: 3.17 s\n"
     ]
    },
    {
     "name": "stderr",
     "output_type": "stream",
     "text": [
      "C:\\Users\\dell\\AppData\\Roaming\\Python\\Python38\\site-packages\\sklearn\\metrics\\_classification.py:1344: UndefinedMetricWarning: Precision and F-score are ill-defined and being set to 0.0 in labels with no predicted samples. Use `zero_division` parameter to control this behavior.\n",
      "  _warn_prf(average, modifier, msg_start, len(result))\n",
      "C:\\Users\\dell\\AppData\\Roaming\\Python\\Python38\\site-packages\\sklearn\\metrics\\_classification.py:1344: UndefinedMetricWarning: Precision and F-score are ill-defined and being set to 0.0 in labels with no predicted samples. Use `zero_division` parameter to control this behavior.\n",
      "  _warn_prf(average, modifier, msg_start, len(result))\n",
      "C:\\Users\\dell\\AppData\\Roaming\\Python\\Python38\\site-packages\\sklearn\\metrics\\_classification.py:1344: UndefinedMetricWarning: Precision and F-score are ill-defined and being set to 0.0 in labels with no predicted samples. Use `zero_division` parameter to control this behavior.\n",
      "  _warn_prf(average, modifier, msg_start, len(result))\n"
     ]
    }
   ],
   "source": [
    "%%time\n",
    "clf = svm.SVC( kernel='linear')\n",
    "clf.fit(X_train, y_train)\n",
    "evaluate(clf, X_val,y_val , clf.predict(X_train), y_train)"
   ]
  },
  {
   "cell_type": "code",
   "execution_count": 16,
   "metadata": {},
   "outputs": [],
   "source": [
    "from scipy.stats import loguniform\n",
    "\n",
    "c_range =loguniform(1e-5, 1e5)\n",
    "gamma_range = np.linspace(0.0001, 1)\n",
    "#kernels= ['linear' ,'rbf']\n",
    "param_grid = {'C': c_range,\n",
    "              'gamma': gamma_range,\n",
    "               #'kernel' : kernels\n",
    "             }"
   ]
  },
  {
   "cell_type": "code",
   "execution_count": 22,
   "metadata": {},
   "outputs": [],
   "source": [
    "parameter_search(X_train, y_train, clf, param_grid)\n"
   ]
  },
  {
   "cell_type": "code",
   "execution_count": null,
   "metadata": {},
   "outputs": [],
   "source": []
  }
 ],
 "metadata": {
  "kernelspec": {
   "display_name": "Python 3",
   "language": "python",
   "name": "python3"
  },
  "language_info": {
   "codemirror_mode": {
    "name": "ipython",
    "version": 3
   },
   "file_extension": ".py",
   "mimetype": "text/x-python",
   "name": "python",
   "nbconvert_exporter": "python",
   "pygments_lexer": "ipython3",
   "version": "3.8.5"
  },
  "orig_nbformat": 4
 },
 "nbformat": 4,
 "nbformat_minor": 2
}
