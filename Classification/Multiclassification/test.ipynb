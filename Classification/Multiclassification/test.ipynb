{
 "cells": [
  {
   "cell_type": "code",
   "execution_count": 1,
   "metadata": {},
   "outputs": [],
   "source": [
    "import sys; sys.path.append('../')\n",
    "from DataPreparing.data_preparing import *\n",
    "from Evaluation.evaluate import *\n",
    "from sklearn import svm\n",
    "from sklearn.ensemble import AdaBoostClassifier, RandomForestClassifier\n",
    "from sklearn.linear_model import LogisticRegression\n",
    "from imblearn.under_sampling import NearMiss,RandomUnderSampler\n",
    "from sklearn.model_selection import train_test_split\n",
    "import numpy as np\n",
    "import pandas as pd\n"
   ]
  },
  {
   "cell_type": "code",
   "execution_count": 34,
   "metadata": {},
   "outputs": [],
   "source": [
    "#read csv file without header and index into dataframe\n",
    "\n",
    "df1=  pd.read_csv('../DataFiles/gcn_embeddings/all/embeddings_group1.csv', header=None, index_col=None)\n",
    "df2 =  pd.read_csv('../DataFiles/gcn_embeddings/all/embeddings_group2.csv', header=None, index_col=None)\n",
    "df3 = pd.read_csv('../DataFiles/gcn_embeddings/all/embeddings_group3.csv', header=None, index_col=None)\n",
    "df4 = pd.read_csv('../DataFiles/gcn_embeddings/all/embeddings_group4.csv', header=None, index_col=None)\n"
   ]
  },
  {
   "cell_type": "code",
   "execution_count": 35,
   "metadata": {},
   "outputs": [],
   "source": [
    "#combine all dataframes into one\n",
    "df = pd.concat([df1, df2, df3, df4], ignore_index=True)\n"
   ]
  },
  {
   "cell_type": "code",
   "execution_count": 36,
   "metadata": {},
   "outputs": [],
   "source": [
    "#write dataframe into csv file\n",
    "df.to_csv('../DataFiles/gcn_embeddings/embeddings_all.csv', index=False, header=False)"
   ]
  },
  {
   "cell_type": "code",
   "execution_count": 37,
   "metadata": {},
   "outputs": [],
   "source": [
    "#drop first column\n",
    "df = df.drop(df.columns[0], axis=1)"
   ]
  },
  {
   "cell_type": "code",
   "execution_count": 38,
   "metadata": {},
   "outputs": [],
   "source": [
    "df_numpy = df.to_numpy()\n",
    "features = df_numpy[:, :-1]\n",
    "labels = df_numpy[:, -1]\n",
    "X_train, X_val, y_train, y_val = train_test_split(features, labels, test_size=0.2, random_state=0)"
   ]
  },
  {
   "cell_type": "code",
   "execution_count": 39,
   "metadata": {},
   "outputs": [
    {
     "name": "stdout",
     "output_type": "stream",
     "text": [
      "Training Accurracy: 79.57126550196374%\n",
      "              precision    recall  f1-score   support\n",
      "\n",
      "      CWE121       1.00      1.00      1.00      1137\n",
      "      CWE122       0.79      0.87      0.83      1631\n",
      "      CWE124       0.60      0.47      0.53       559\n",
      "      CWE126       0.78      0.57      0.66       451\n",
      "      CWE127       0.55      0.56      0.56       555\n",
      "      CWE134       0.96      0.98      0.97       801\n",
      "      CWE190       0.53      0.97      0.68      1005\n",
      "      CWE191       0.76      0.07      0.12       828\n",
      "      CWE194       0.91      0.47      0.62       360\n",
      "      CWE195       0.63      0.93      0.75       330\n",
      "       CWE23       0.65      0.80      0.72       660\n",
      "       CWE36       0.75      0.57      0.65       687\n",
      "      CWE401       0.75      0.85      0.80       447\n",
      "      CWE457       0.97      0.77      0.86       175\n",
      "      CWE590       0.83      0.75      0.79       713\n",
      "      CWE690       0.96      0.97      0.96       264\n",
      "      CWE762       0.95      0.97      0.96      1043\n",
      "       CWE78       0.96      0.96      0.96      1276\n",
      "\n",
      "    accuracy                           0.78     12922\n",
      "   macro avg       0.80      0.75      0.75     12922\n",
      "weighted avg       0.80      0.78      0.77     12922\n",
      "\n",
      "CPU times: total: 13min 31s\n",
      "Wall time: 13min 52s\n"
     ]
    }
   ],
   "source": [
    "%%time\n",
    "clf = svm.SVC( kernel='rbf')\n",
    "clf.fit(X_train, y_train)\n",
    "evaluate(clf, X_val,y_val , clf.predict(X_train), y_train)"
   ]
  },
  {
   "cell_type": "code",
   "execution_count": 41,
   "metadata": {},
   "outputs": [],
   "source": [
    "save_model(clf, \"all_model\")"
   ]
  },
  {
   "cell_type": "code",
   "execution_count": 42,
   "metadata": {},
   "outputs": [],
   "source": [
    "from scipy.stats import loguniform\n",
    "\n",
    "c_range =loguniform(1e-5, 1e5)\n",
    "gamma_range = np.linspace(0.0001, 1)\n",
    "#kernels= ['linear' ,'rbf']\n",
    "param_grid = {'C': c_range,\n",
    "              'gamma': gamma_range,\n",
    "               #'kernel' : kernels\n",
    "             }"
   ]
  },
  {
   "cell_type": "code",
   "execution_count": 43,
   "metadata": {},
   "outputs": [],
   "source": [
    "parameter_search(X_train, y_train, clf, param_grid)\n"
   ]
  },
  {
   "cell_type": "code",
   "execution_count": null,
   "metadata": {},
   "outputs": [],
   "source": [
    "%%time\n",
    "clf = svm.SVC( kernel='rbf')\n",
    "clf.fit(X_train, y_train)\n",
    "evaluate(clf, X_val,y_val , clf.predict(X_train), y_train)"
   ]
  },
  {
   "cell_type": "code",
   "execution_count": null,
   "metadata": {},
   "outputs": [],
   "source": [
    "# save the model\n",
    "save_model(clf, \"all2_model\")"
   ]
  }
 ],
 "metadata": {
  "kernelspec": {
   "display_name": "Python 3",
   "language": "python",
   "name": "python3"
  },
  "language_info": {
   "codemirror_mode": {
    "name": "ipython",
    "version": 3
   },
   "file_extension": ".py",
   "mimetype": "text/x-python",
   "name": "python",
   "nbconvert_exporter": "python",
   "pygments_lexer": "ipython3",
   "version": "3.8.5"
  },
  "orig_nbformat": 4
 },
 "nbformat": 4,
 "nbformat_minor": 2
}
