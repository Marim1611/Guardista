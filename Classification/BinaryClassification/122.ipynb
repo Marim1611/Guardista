{
 "cells": [
  {
   "cell_type": "code",
   "execution_count": 1,
   "metadata": {},
   "outputs": [],
   "source": [
    "import sys; sys.path.append('../')\n",
    "from DataPreparing.data_preparing import *\n",
    "from Evaluation.evaluate import *\n",
    "from sklearn import svm\n",
    "from sklearn.ensemble import AdaBoostClassifier, RandomForestClassifier\n",
    "from sklearn.linear_model import LogisticRegression\n",
    "from imblearn.under_sampling import NearMiss,RandomUnderSampler\n",
    "from sklearn.model_selection import train_test_split\n",
    "import numpy as np\n",
    "import pandas as pd"
   ]
  },
  {
   "cell_type": "code",
   "execution_count": 2,
   "metadata": {},
   "outputs": [],
   "source": [
    "#read csv file without header and index into dataframe\n",
    "df1=  pd.read_csv('../DataFiles/gcn_new_embeddings/embeddings_122.csv', header=None, index_col=None)\n",
    "df2 =  pd.read_csv('../DataFiles/gcn_new_embeddings/embeddings_122_safe.csv', header=None, index_col=None)\n",
    "# df3 = pd.read_csv('../DataFiles/gcn_embeddings/all/embeddings_group3.csv', header=None, index_col=None)\n",
    "# df4 = pd.read_csv('../DataFiles/gcn_embeddings/all/embeddings_group4.csv', header=None, index_col=None)"
   ]
  },
  {
   "cell_type": "code",
   "execution_count": 3,
   "metadata": {},
   "outputs": [],
   "source": [
    "#combine all dataframes into one\n",
    "df = pd.concat([df1, df2], ignore_index=True)\n"
   ]
  },
  {
   "cell_type": "code",
   "execution_count": null,
   "metadata": {},
   "outputs": [],
   "source": []
  },
  {
   "cell_type": "code",
   "execution_count": 4,
   "metadata": {},
   "outputs": [],
   "source": [
    "#write dataframe into csv file\n",
    "df.to_csv('../DataFiles/gcn_new_embeddings/122.csv', index=False, header=False)"
   ]
  },
  {
   "cell_type": "code",
   "execution_count": 5,
   "metadata": {},
   "outputs": [],
   "source": [
    "#drop first column\n",
    "df = df.drop(df.columns[0], axis=1)"
   ]
  },
  {
   "cell_type": "code",
   "execution_count": 6,
   "metadata": {},
   "outputs": [],
   "source": [
    "df_numpy = df.to_numpy()\n",
    "features = df_numpy[:, :-1]\n",
    "labels = df_numpy[:, -1]\n",
    "X_train, X_val, y_train, y_val = train_test_split(features, labels, test_size=0.2, random_state=0)"
   ]
  },
  {
   "cell_type": "code",
   "execution_count": 8,
   "metadata": {},
   "outputs": [
    {
     "name": "stdout",
     "output_type": "stream",
     "text": [
      "{'CWE122_safe', 'CWE122'}\n"
     ]
    }
   ],
   "source": [
    "print(set(y_train))"
   ]
  },
  {
   "cell_type": "code",
   "execution_count": 7,
   "metadata": {},
   "outputs": [
    {
     "name": "stdout",
     "output_type": "stream",
     "text": [
      "Training Accurracy: 99.85789847635589%\n",
      "              precision    recall  f1-score   support\n",
      "\n",
      "      CWE122       1.00      1.00      1.00      1602\n",
      " CWE122_safe       1.00      1.00      1.00      1565\n",
      "\n",
      "    accuracy                           1.00      3167\n",
      "   macro avg       1.00      1.00      1.00      3167\n",
      "weighted avg       1.00      1.00      1.00      3167\n",
      "\n",
      "CPU times: total: 3.08 s\n",
      "Wall time: 3.26 s\n"
     ]
    }
   ],
   "source": [
    "%%time\n",
    "clf = svm.SVC( kernel='rbf')\n",
    "clf.fit(X_train, y_train)\n",
    "evaluate(clf, X_val,y_val , clf.predict(X_train), y_train)"
   ]
  },
  {
   "cell_type": "code",
   "execution_count": 41,
   "metadata": {},
   "outputs": [],
   "source": [
    "save_model(clf, \"all_model\")"
   ]
  },
  {
   "cell_type": "code",
   "execution_count": 42,
   "metadata": {},
   "outputs": [],
   "source": [
    "from scipy.stats import loguniform\n",
    "\n",
    "c_range =loguniform(1e-5, 1e5)\n",
    "gamma_range = np.linspace(0.0001, 1)\n",
    "#kernels= ['linear' ,'rbf']\n",
    "param_grid = {'C': c_range,\n",
    "              'gamma': gamma_range,\n",
    "               #'kernel' : kernels\n",
    "             }"
   ]
  },
  {
   "cell_type": "code",
   "execution_count": 43,
   "metadata": {},
   "outputs": [],
   "source": [
    "parameter_search(X_train, y_train, clf, param_grid)\n"
   ]
  },
  {
   "cell_type": "code",
   "execution_count": null,
   "metadata": {},
   "outputs": [],
   "source": [
    "%%time\n",
    "clf = svm.SVC( kernel='rbf')\n",
    "clf.fit(X_train, y_train)\n",
    "evaluate(clf, X_val,y_val , clf.predict(X_train), y_train)"
   ]
  },
  {
   "cell_type": "code",
   "execution_count": null,
   "metadata": {},
   "outputs": [],
   "source": [
    "# save the model\n",
    "save_model(clf, \"all2_model\")"
   ]
  }
 ],
 "metadata": {
  "kernelspec": {
   "display_name": "Python 3",
   "language": "python",
   "name": "python3"
  },
  "language_info": {
   "codemirror_mode": {
    "name": "ipython",
    "version": 3
   },
   "file_extension": ".py",
   "mimetype": "text/x-python",
   "name": "python",
   "nbconvert_exporter": "python",
   "pygments_lexer": "ipython3",
   "version": "3.8.5"
  },
  "orig_nbformat": 4
 },
 "nbformat": 4,
 "nbformat_minor": 2
}
