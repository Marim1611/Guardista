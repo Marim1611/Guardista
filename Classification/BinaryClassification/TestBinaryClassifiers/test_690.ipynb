{
 "cells": [
  {
   "cell_type": "code",
   "execution_count": 1,
   "metadata": {},
   "outputs": [],
   "source": [
    "%load_ext autoreload\n",
    "%autoreload 2"
   ]
  },
  {
   "cell_type": "code",
   "execution_count": 2,
   "metadata": {},
   "outputs": [],
   "source": [
    "import sys; sys.path.append('../')\n",
    "from DataPreparing.data_preparing import *\n",
    "from DataPreparing.HandleClassImbalance import *\n",
    "from Evaluation.evaluate import *\n",
    "from sklearn.ensemble import AdaBoostClassifier, RandomForestClassifier\n",
    "from sklearn.linear_model import LogisticRegression\n",
    "from sklearn.model_selection import train_test_split"
   ]
  },
  {
   "cell_type": "code",
   "execution_count": 3,
   "metadata": {},
   "outputs": [],
   "source": [
    "X_train, X_val, y_train, y_val=read_data('../DataFiles/binary/690.csv', drop_1st_col=False, header=None, index_col=None)"
   ]
  },
  {
   "cell_type": "code",
   "execution_count": 11,
   "metadata": {},
   "outputs": [
    {
     "name": "stdout",
     "output_type": "stream",
     "text": [
      "Training Accurracy: 98.01980198019803%\n",
      "              precision    recall  f1-score   support\n",
      "\n",
      "      CWE690       0.95      0.97      0.96       258\n",
      "        safe       0.97      0.95      0.96       273\n",
      "\n",
      "    accuracy                           0.96       531\n",
      "   macro avg       0.96      0.96      0.96       531\n",
      "weighted avg       0.96      0.96      0.96       531\n",
      "\n",
      "CPU times: total: 7.56 s\n",
      "Wall time: 8.13 s\n"
     ]
    }
   ],
   "source": [
    "%%time\n",
    "clf = AdaBoostClassifier(n_estimators=50)\n",
    "clf.fit(X_train, y_train)\n",
    "evaluate(clf, X_val,y_val, clf.predict(X_train), y_train)\n"
   ]
  },
  {
   "cell_type": "code",
   "execution_count": 12,
   "metadata": {},
   "outputs": [],
   "source": [
    "save_model(clf,'ADB_690')"
   ]
  },
  {
   "cell_type": "code",
   "execution_count": 9,
   "metadata": {},
   "outputs": [
    {
     "name": "stderr",
     "output_type": "stream",
     "text": [
      "C:\\Users\\dell\\AppData\\Roaming\\Python\\Python38\\site-packages\\sklearn\\linear_model\\_logistic.py:1173: FutureWarning: `penalty='none'`has been deprecated in 1.2 and will be removed in 1.4. To keep the past behaviour, set `penalty=None`.\n",
      "  warnings.warn(\n",
      "C:\\Users\\dell\\AppData\\Roaming\\Python\\Python38\\site-packages\\sklearn\\linear_model\\_logistic.py:458: ConvergenceWarning: lbfgs failed to converge (status=1):\n",
      "STOP: TOTAL NO. of ITERATIONS REACHED LIMIT.\n",
      "\n",
      "Increase the number of iterations (max_iter) or scale the data as shown in:\n",
      "    https://scikit-learn.org/stable/modules/preprocessing.html\n",
      "Please also refer to the documentation for alternative solver options:\n",
      "    https://scikit-learn.org/stable/modules/linear_model.html#logistic-regression\n",
      "  n_iter_i = _check_optimize_result(\n"
     ]
    },
    {
     "name": "stdout",
     "output_type": "stream",
     "text": [
      "Training Accurracy: 85.00707213578501%\n",
      "              precision    recall  f1-score   support\n",
      "\n",
      "      CWE690       0.84      0.88      0.86       258\n",
      "        safe       0.88      0.84      0.86       273\n",
      "\n",
      "    accuracy                           0.86       531\n",
      "   macro avg       0.86      0.86      0.86       531\n",
      "weighted avg       0.86      0.86      0.86       531\n",
      "\n"
     ]
    }
   ],
   "source": [
    "clf=LogisticRegression(random_state=0, penalty=\"none\")\n",
    "clf.fit(X_train, y_train)\n",
    "evaluate(clf, X_val,y_val, clf.predict(X_train), y_train)\n"
   ]
  },
  {
   "cell_type": "code",
   "execution_count": 10,
   "metadata": {},
   "outputs": [],
   "source": [
    "save_model(clf,'LR_690')"
   ]
  },
  {
   "cell_type": "code",
   "execution_count": 8,
   "metadata": {},
   "outputs": [
    {
     "name": "stdout",
     "output_type": "stream",
     "text": [
      "Training Accurracy: 100.0%\n",
      "              precision    recall  f1-score   support\n",
      "\n",
      "      CWE690       0.99      1.00      1.00       258\n",
      "        safe       1.00      0.99      1.00       273\n",
      "\n",
      "    accuracy                           1.00       531\n",
      "   macro avg       1.00      1.00      1.00       531\n",
      "weighted avg       1.00      1.00      1.00       531\n",
      "\n",
      "CPU times: total: 2.77 s\n",
      "Wall time: 3.33 s\n"
     ]
    }
   ],
   "source": [
    "%%time\n",
    "clf = RandomForestClassifier(n_estimators=100)\n",
    "clf.fit(X_train, y_train)\n",
    "evaluate(clf, X_val,y_val, clf.predict(X_train), y_train)\n"
   ]
  },
  {
   "cell_type": "code",
   "execution_count": 16,
   "metadata": {},
   "outputs": [],
   "source": [
    "X,y =read_data(\"../DataFiles/binary/121_122_78.csv\", split=False)"
   ]
  },
  {
   "cell_type": "code",
   "execution_count": 17,
   "metadata": {},
   "outputs": [
    {
     "name": "stdout",
     "output_type": "stream",
     "text": [
      "{'CWE122', 'CWE78', 'CWE121', 'safe'}\n",
      "{'CWE78', 'safe'}\n"
     ]
    }
   ],
   "source": [
    "print(set(y))\n",
    "print(set(y_val))\n"
   ]
  }
 ],
 "metadata": {
  "kernelspec": {
   "display_name": "Python 3",
   "language": "python",
   "name": "python3"
  },
  "language_info": {
   "codemirror_mode": {
    "name": "ipython",
    "version": 3
   },
   "file_extension": ".py",
   "mimetype": "text/x-python",
   "name": "python",
   "nbconvert_exporter": "python",
   "pygments_lexer": "ipython3",
   "version": "3.8.5"
  },
  "orig_nbformat": 4
 },
 "nbformat": 4,
 "nbformat_minor": 2
}
