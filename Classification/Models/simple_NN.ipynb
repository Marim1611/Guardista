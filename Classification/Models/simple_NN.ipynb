{
 "cells": [
  {
   "cell_type": "code",
   "execution_count": 13,
   "metadata": {},
   "outputs": [
    {
     "name": "stderr",
     "output_type": "stream",
     "text": [
      "c:\\Users\\dell\\AppData\\Local\\Programs\\Python\\Python38\\lib\\site-packages\\tqdm\\auto.py:21: TqdmWarning: IProgress not found. Please update jupyter and ipywidgets. See https://ipywidgets.readthedocs.io/en/stable/user_install.html\n",
      "  from .autonotebook import tqdm as notebook_tqdm\n"
     ]
    }
   ],
   "source": [
    "import sys; sys.path.append('../')\n",
    "from DataPreparing.data_preparing import read_data\n",
    "from Evaluation.evaluate import *\n",
    "import torch\n",
    "import torch.nn as nn\n",
    "import torch.optim as optim\n",
    "from torch.utils.data import Dataset, DataLoader\n"
   ]
  },
  {
   "cell_type": "code",
   "execution_count": 2,
   "metadata": {},
   "outputs": [],
   "source": [
    "X_train, X_val, y_train, y_val =read_data(\"../DataFiles/graphs_representations.csv\")"
   ]
  },
  {
   "cell_type": "code",
   "execution_count": 3,
   "metadata": {},
   "outputs": [],
   "source": [
    "# concatenate x_train and x_val\n",
    "X_train = np.concatenate((X_train, X_val), axis=0)\n",
    "y_train = np.concatenate((y_train, y_val), axis=0)\n"
   ]
  },
  {
   "cell_type": "code",
   "execution_count": 4,
   "metadata": {},
   "outputs": [],
   "source": [
    "# convert float to float64 \n",
    "X_train = X_train.astype('float64')\n",
    "X_val = X_val.astype('float64')\n"
   ]
  },
  {
   "cell_type": "code",
   "execution_count": 5,
   "metadata": {},
   "outputs": [
    {
     "name": "stdout",
     "output_type": "stream",
     "text": [
      "{'CWE190', 'CWE23', 'CWE121', 'safe'}\n",
      "{'CWE190', 'CWE23', 'CWE121', 'safe'}\n"
     ]
    }
   ],
   "source": [
    "print(set   (y_train))\n",
    "print(set   (y_val))"
   ]
  },
  {
   "cell_type": "code",
   "execution_count": 6,
   "metadata": {},
   "outputs": [],
   "source": [
    "# encode class values as integers safe=0, CWE23=1\n",
    "for i in range(len(y_train)):\n",
    "    if y_train[i]=='safe':\n",
    "        y_train[i]=0\n",
    "    elif y_train[i]=='CWE23':\n",
    "        y_train[i]=1\n",
    "    elif y_train[i]=='CWE190':\n",
    "        y_train[i]=2\n",
    "    elif y_train[i]=='CWE121':\n",
    "        y_train[i]=3\n",
    "\n",
    "for i in range(len(y_val)):\n",
    "    if y_val[i]=='safe':\n",
    "        y_val[i]=0\n",
    "    elif y_val[i]=='CWE23':\n",
    "        y_val[i]=1\n",
    "    elif y_val[i]=='CWE190':\n",
    "        y_val[i]=2\n",
    "    elif y_val[i]=='CWE121':\n",
    "        y_val[i]=3\n",
    "    \n",
    "# for i in range(len(y_val)):\n",
    "#     if y_val[i]=='safe':\n",
    "#         y_val[i]=0\n",
    "#     else:\n",
    "#         y_val[i]=1"
   ]
  },
  {
   "cell_type": "code",
   "execution_count": 7,
   "metadata": {},
   "outputs": [
    {
     "name": "stdout",
     "output_type": "stream",
     "text": [
      "{0, 1, 2, 3}\n",
      "{0, 1, 2, 3}\n"
     ]
    }
   ],
   "source": [
    "print(set   (y_train))\n",
    "print(set   (y_val))"
   ]
  },
  {
   "cell_type": "code",
   "execution_count": 8,
   "metadata": {},
   "outputs": [],
   "source": [
    "y_val = y_val.astype('int64')\n",
    "y_train = y_train.astype('int64')\n"
   ]
  },
  {
   "cell_type": "code",
   "execution_count": 9,
   "metadata": {},
   "outputs": [
    {
     "name": "stdout",
     "output_type": "stream",
     "text": [
      "{0, 1, 2, 3}\n"
     ]
    }
   ],
   "source": [
    "print(set(y_train))\n"
   ]
  },
  {
   "cell_type": "code",
   "execution_count": 10,
   "metadata": {},
   "outputs": [
    {
     "name": "stdout",
     "output_type": "stream",
     "text": [
      "X_train shape:  (16532, 128)\n",
      "y_train shape:  (16532,)\n",
      "X_val shape:  (3307, 128)\n",
      "y_val shape:  (3307,)\n"
     ]
    }
   ],
   "source": [
    "#print shape and type of data\n",
    "print(\"X_train shape: \", X_train.shape)\n",
    "print(\"y_train shape: \", y_train.shape)\n",
    "print(\"X_val shape: \", X_val.shape)\n",
    "print(\"y_val shape: \", y_val.shape)\n"
   ]
  },
  {
   "cell_type": "code",
   "execution_count": 11,
   "metadata": {},
   "outputs": [
    {
     "name": "stdout",
     "output_type": "stream",
     "text": [
      "<class 'numpy.float64'>\n"
     ]
    }
   ],
   "source": [
    "print(type(X_train[0][0]))"
   ]
  },
  {
   "cell_type": "code",
   "execution_count": 14,
   "metadata": {},
   "outputs": [],
   "source": [
    "X_train_tensor = torch.from_numpy(X_train)\n",
    "y_train_tensor = torch.from_numpy(y_train)\n",
    "X_val_tensor = torch.from_numpy(X_val)\n",
    "y_val_tensor = torch.from_numpy(y_val)\n"
   ]
  },
  {
   "cell_type": "code",
   "execution_count": 15,
   "metadata": {},
   "outputs": [
    {
     "name": "stdout",
     "output_type": "stream",
     "text": [
      "torch.Size([16532, 128])\n"
     ]
    }
   ],
   "source": [
    "print(X_train_tensor.shape)"
   ]
  },
  {
   "cell_type": "code",
   "execution_count": 21,
   "metadata": {},
   "outputs": [
    {
     "name": "stderr",
     "output_type": "stream",
     "text": [
      "C:\\Users\\dell\\AppData\\Local\\Temp\\ipykernel_17276\\3203046694.py:20: UserWarning: To copy construct from a tensor, it is recommended to use sourceTensor.clone().detach() or sourceTensor.clone().detach().requires_grad_(True), rather than torch.tensor(sourceTensor).\n",
      "  self.data = torch.tensor(data, dtype=torch.float32)\n",
      "C:\\Users\\dell\\AppData\\Local\\Temp\\ipykernel_17276\\3203046694.py:21: UserWarning: To copy construct from a tensor, it is recommended to use sourceTensor.clone().detach() or sourceTensor.clone().detach().requires_grad_(True), rather than torch.tensor(sourceTensor).\n",
      "  self.labels = torch.tensor(labels, dtype=torch.long)\n"
     ]
    },
    {
     "name": "stdout",
     "output_type": "stream",
     "text": [
      "Epoch [1/10], Loss: 1.4057, Accuracy: 33.77%\n",
      "Epoch [2/10], Loss: 1.3823, Accuracy: 36.14%\n",
      "Epoch [3/10], Loss: 1.3821, Accuracy: 36.16%\n",
      "Epoch [4/10], Loss: 1.3821, Accuracy: 36.16%\n",
      "Epoch [5/10], Loss: 1.3821, Accuracy: 36.16%\n",
      "Epoch [6/10], Loss: 1.3821, Accuracy: 36.16%\n",
      "Epoch [7/10], Loss: 1.3821, Accuracy: 36.16%\n",
      "Epoch [8/10], Loss: 1.3821, Accuracy: 36.16%\n",
      "Epoch [9/10], Loss: 1.3821, Accuracy: 36.16%\n",
      "Epoch [10/10], Loss: 1.3821, Accuracy: 36.16%\n",
      "Epoch [11/10], Loss: 1.3821, Accuracy: 36.16%\n",
      "Epoch [12/10], Loss: 1.3821, Accuracy: 36.16%\n",
      "Epoch [13/10], Loss: 1.3821, Accuracy: 36.16%\n",
      "Epoch [14/10], Loss: 1.3821, Accuracy: 36.16%\n",
      "Epoch [15/10], Loss: 1.3821, Accuracy: 36.16%\n",
      "Epoch [16/10], Loss: 1.3821, Accuracy: 36.16%\n",
      "Epoch [17/10], Loss: 1.3821, Accuracy: 36.16%\n",
      "Epoch [18/10], Loss: 1.3821, Accuracy: 36.16%\n",
      "Epoch [19/10], Loss: 1.3821, Accuracy: 36.16%\n",
      "Epoch [20/10], Loss: 1.3821, Accuracy: 36.16%\n"
     ]
    }
   ],
   "source": [
    "\n",
    "# Define the neural network architecture\n",
    "class Net(nn.Module):\n",
    "    def __init__(self):\n",
    "        super(Net, self).__init__()\n",
    "        self.fc1 = nn.Linear(128, 64)\n",
    "        self.relu = nn.ReLU()\n",
    "        self.fc2 = nn.Linear(64, 4)\n",
    "        self.softmax = nn.Softmax(dim=1)\n",
    "\n",
    "    def forward(self, x):\n",
    "        x = self.fc1(x)\n",
    "        x = self.relu(x)\n",
    "        x = self.fc2(x)\n",
    "        x = self.softmax(x)\n",
    "        return x\n",
    "\n",
    "# Define the dataset\n",
    "class MyDataset(Dataset):\n",
    "    def __init__(self, data, labels):\n",
    "        self.data = torch.tensor(data, dtype=torch.float32)\n",
    "        self.labels = torch.tensor(labels, dtype=torch.long)\n",
    "\n",
    "    def __len__(self):\n",
    "        return len(self.data)\n",
    "\n",
    "    def __getitem__(self, idx):\n",
    "        return self.data[idx], self.labels[idx]\n",
    "\n",
    "# Prepare the data\n",
    "data =X_train_tensor\n",
    "labels =y_train_tensor\n",
    "dataset = MyDataset(data, labels)\n",
    "dataloader = DataLoader(dataset, batch_size=32, shuffle=True)\n",
    "\n",
    "# Initialize the model, loss function, and optimizer\n",
    "model = Net()\n",
    "criterion = nn.CrossEntropyLoss()\n",
    "optimizer = optim.SGD(model.parameters(), lr=0.001)\n",
    "\n",
    "# Train the model\n",
    "for epoch in range(20):\n",
    "    running_loss = 0.0\n",
    "    correct = 0\n",
    "    total = 0\n",
    "    for inputs, labels in dataloader:\n",
    "        optimizer.zero_grad()\n",
    "        outputs = model(inputs)\n",
    "        loss = criterion(outputs, labels)\n",
    "        loss.backward()\n",
    "        optimizer.step()\n",
    "        running_loss += loss.item() * inputs.size(0)\n",
    "        _, predicted = torch.max(outputs.data, 1)\n",
    "        total += labels.size(0)\n",
    "        correct += (predicted == labels).sum().item()\n",
    "    epoch_loss = running_loss / len(dataset)\n",
    "    epoch_acc = 100 * correct / total\n",
    "    \n",
    "    print('Epoch [{}/{}], Loss: {:.4f}, Accuracy: {:.2f}%'.format(epoch+1, 10, epoch_loss, epoch_acc))\n",
    "    #Print classification report\n",
    "    # print(classification_report(y_val, predicted))\n",
    "\n",
    "    # epoch_loss = running_loss / len(dataset)\n",
    "    # print('Epoch [{}/{}], Loss: {:.4f}'.format(epoch+1, 10, epoch_loss))"
   ]
  },
  {
   "cell_type": "code",
   "execution_count": 17,
   "metadata": {},
   "outputs": [],
   "source": [
    "# import tensorflow as tf\n",
    "# from tensorflow import keras\n",
    "# from sklearn.datasets import make_classification\n",
    "# from sklearn.model_selection import train_test_split\n",
    "# from sklearn.preprocessing import MinMaxScaler\n",
    "\n",
    "\n",
    "# # Define the neural network architecture\n",
    "# model = keras.Sequential([\n",
    "#     keras.layers.Dense(32, activation='relu', input_shape=(10,)),\n",
    "#     keras.layers.Dense(16, activation='relu'),\n",
    "#     keras.layers.Dense(1, activation='sigmoid')\n",
    "# ])\n",
    "\n",
    "# # Compile the model with a binary cross-entropy loss function and an Adam optimizer\n",
    "# model.compile(loss='binary_crossentropy', optimizer='adam', metrics=['accuracy'])\n",
    "\n",
    "# # Train the model on the training data, using early stopping to prevent overfitting\n",
    "# early_stopping = keras.callbacks.EarlyStopping(monitor='val_loss', patience=5)\n",
    "# model.fit( tf.convert_to_tensor(X_train), tf.convert_to_tensor(y_train) , epochs=50, batch_size=32, callbacks=[early_stopping])\n",
    "\n",
    "# # Evaluate the model on the test data\n",
    "# loss, accuracy = model.evaluate(X_val, y_val)\n",
    "# print('Test loss:', loss)\n",
    "# print('Test accuracy:', accuracy)"
   ]
  },
  {
   "cell_type": "code",
   "execution_count": null,
   "metadata": {},
   "outputs": [],
   "source": []
  }
 ],
 "metadata": {
  "kernelspec": {
   "display_name": "Python 3",
   "language": "python",
   "name": "python3"
  },
  "language_info": {
   "codemirror_mode": {
    "name": "ipython",
    "version": 3
   },
   "file_extension": ".py",
   "mimetype": "text/x-python",
   "name": "python",
   "nbconvert_exporter": "python",
   "pygments_lexer": "ipython3",
   "version": "3.8.5"
  },
  "orig_nbformat": 4
 },
 "nbformat": 4,
 "nbformat_minor": 2
}
