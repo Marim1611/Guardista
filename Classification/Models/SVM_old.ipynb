{
 "cells": [
  {
   "cell_type": "code",
   "execution_count": 2,
   "metadata": {},
   "outputs": [],
   "source": [
    "import sys; sys.path.append('../')\n",
    "from DataPreparing.data_preparing import read_data\n",
    "from Evaluation.evaluate import *\n",
    "from sklearn import svm\n",
    "from sklearn.ensemble import AdaBoostClassifier, RandomForestClassifier\n",
    "from sklearn.linear_model import LogisticRegression\n",
    "from imblearn.over_sampling import SMOTE,SMOTENC,SMOTEN,BorderlineSMOTE\n",
    "from imblearn.under_sampling import NearMiss,RandomUnderSampler\n",
    "from sklearn.model_selection import train_test_split\n",
    "from sklearn.multiclass import OneVsRestClassifier"
   ]
  },
  {
   "attachments": {},
   "cell_type": "markdown",
   "metadata": {},
   "source": [
    "# Read Data"
   ]
  },
  {
   "cell_type": "code",
   "execution_count": 31,
   "metadata": {},
   "outputs": [],
   "source": [
    "X_sm, X_val, y_sm, y_val =read_data(\"../DataFiles/CWE23.csv\")"
   ]
  },
  {
   "cell_type": "code",
   "execution_count": 22,
   "metadata": {},
   "outputs": [],
   "source": [
    "# clf = OneVsRestClassifier(svm.LinearSVC())\n",
    "# clf.fit(X_sm, y_sm)\n"
   ]
  },
  {
   "cell_type": "code",
   "execution_count": 23,
   "metadata": {},
   "outputs": [],
   "source": [
    "# # Test the model\n",
    "# predictions = clf.predict(X_val)"
   ]
  },
  {
   "cell_type": "code",
   "execution_count": 24,
   "metadata": {},
   "outputs": [],
   "source": [
    "# evaluate(clf, X_val,y_val , clf.predict(X_sm), y_sm)"
   ]
  },
  {
   "attachments": {},
   "cell_type": "markdown",
   "metadata": {},
   "source": [
    "# Linear SVM"
   ]
  },
  {
   "cell_type": "code",
   "execution_count": 32,
   "metadata": {},
   "outputs": [
    {
     "name": "stdout",
     "output_type": "stream",
     "text": [
      "Training Accurracy: 89.06660823838737%\n",
      "              precision    recall  f1-score   support\n",
      "\n",
      "       CWE23       0.59      0.58      0.58       546\n",
      "        safe       0.62      0.62      0.62       596\n",
      "\n",
      "    accuracy                           0.60      1142\n",
      "   macro avg       0.60      0.60      0.60      1142\n",
      "weighted avg       0.60      0.60      0.60      1142\n",
      "\n",
      "CPU times: total: 14.3 s\n",
      "Wall time: 19.3 s\n"
     ]
    }
   ],
   "source": [
    "%%time\n",
    "clf = svm.SVC(kernel='rbf')\n",
    "clf.fit(X_sm, y_sm)\n",
    "evaluate(clf, X_val,y_val , clf.predict(X_sm), y_sm)"
   ]
  },
  {
   "attachments": {},
   "cell_type": "markdown",
   "metadata": {},
   "source": [
    "# Random Forest "
   ]
  },
  {
   "cell_type": "code",
   "execution_count": 27,
   "metadata": {},
   "outputs": [
    {
     "name": "stdout",
     "output_type": "stream",
     "text": [
      "Training Accurracy: 99.97211377579475%\n",
      "              precision    recall  f1-score   support\n",
      "\n",
      "      CWE121       0.68      0.98      0.80      1191\n",
      "        safe       0.65      0.09      0.16       603\n",
      "\n",
      "    accuracy                           0.68      1794\n",
      "   macro avg       0.66      0.53      0.48      1794\n",
      "weighted avg       0.67      0.68      0.58      1794\n",
      "\n",
      "Training Accurracy: 99.97211377579475%\n",
      "CPU times: total: 20 s\n",
      "Wall time: 22.3 s\n"
     ]
    }
   ],
   "source": [
    "%%time\n",
    "clf = RandomForestClassifier(n_estimators=50)\n",
    "clf.fit(X_sm, y_sm)\n",
    "evaluate(clf, X_val,y_val, clf.predict(X_sm), y_sm)\n",
    "y_train_predict = clf.predict(X_sm)\n",
    "print(f\"Training Accurracy: {accuracy_score(y_sm, y_train_predict) * 100}%\")"
   ]
  },
  {
   "attachments": {},
   "cell_type": "markdown",
   "metadata": {},
   "source": [
    "# Adaboost "
   ]
  },
  {
   "cell_type": "code",
   "execution_count": 28,
   "metadata": {},
   "outputs": [
    {
     "name": "stdout",
     "output_type": "stream",
     "text": [
      "Training Accurracy: 70.23145566090352%\n",
      "              precision    recall  f1-score   support\n",
      "\n",
      "      CWE121       0.68      0.92      0.78      1191\n",
      "        safe       0.47      0.14      0.21       603\n",
      "\n",
      "    accuracy                           0.66      1794\n",
      "   macro avg       0.58      0.53      0.50      1794\n",
      "weighted avg       0.61      0.66      0.59      1794\n",
      "\n",
      "CPU times: total: 33.3 s\n",
      "Wall time: 34.9 s\n"
     ]
    }
   ],
   "source": [
    "%%time\n",
    "clf = AdaBoostClassifier(n_estimators=50)\n",
    "clf.fit(X_sm, y_sm)\n",
    "evaluate(clf, X_val,y_val, clf.predict(X_sm), y_sm)\n"
   ]
  },
  {
   "cell_type": "markdown",
   "metadata": {},
   "source": [
    "#  Logistic Regression"
   ]
  },
  {
   "cell_type": "code",
   "execution_count": 29,
   "metadata": {},
   "outputs": [
    {
     "name": "stderr",
     "output_type": "stream",
     "text": [
      "C:\\Users\\dell\\AppData\\Roaming\\Python\\Python38\\site-packages\\sklearn\\linear_model\\_logistic.py:1173: FutureWarning: `penalty='none'`has been deprecated in 1.2 and will be removed in 1.4. To keep the past behaviour, set `penalty=None`.\n",
      "  warnings.warn(\n"
     ]
    },
    {
     "name": "stdout",
     "output_type": "stream",
     "text": [
      "Training Accurracy: 68.79531511433352%\n",
      "              precision    recall  f1-score   support\n",
      "\n",
      "      CWE121       0.68      0.98      0.80      1191\n",
      "        safe       0.65      0.08      0.15       603\n",
      "\n",
      "    accuracy                           0.68      1794\n",
      "   macro avg       0.67      0.53      0.48      1794\n",
      "weighted avg       0.67      0.68      0.58      1794\n",
      "\n"
     ]
    }
   ],
   "source": [
    "clf=LogisticRegression(random_state=0, penalty=\"none\")\n",
    "clf.fit(X_sm, y_sm)\n",
    "evaluate(clf, X_val,y_val, clf.predict(X_sm), y_sm)\n"
   ]
  },
  {
   "cell_type": "code",
   "execution_count": null,
   "metadata": {},
   "outputs": [],
   "source": []
  },
  {
   "cell_type": "code",
   "execution_count": null,
   "metadata": {},
   "outputs": [],
   "source": []
  },
  {
   "cell_type": "code",
   "execution_count": null,
   "metadata": {},
   "outputs": [],
   "source": []
  }
 ],
 "metadata": {
  "kernelspec": {
   "display_name": "Python 3",
   "language": "python",
   "name": "python3"
  },
  "language_info": {
   "codemirror_mode": {
    "name": "ipython",
    "version": 3
   },
   "file_extension": ".py",
   "mimetype": "text/x-python",
   "name": "python",
   "nbconvert_exporter": "python",
   "pygments_lexer": "ipython3",
   "version": "3.8.5"
  },
  "orig_nbformat": 4
 },
 "nbformat": 4,
 "nbformat_minor": 2
}
